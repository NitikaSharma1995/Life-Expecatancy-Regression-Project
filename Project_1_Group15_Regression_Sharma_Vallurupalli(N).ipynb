{
 "cells": [
  {
   "cell_type": "markdown",
   "id": "8e461c74",
   "metadata": {},
   "source": [
    "# This is for Regression. Dataset is taken from kaggle."
   ]
  },
  {
   "cell_type": "markdown",
   "id": "c06b277c",
   "metadata": {},
   "source": [
    "### Importing required modules"
   ]
  },
  {
   "cell_type": "code",
   "execution_count": 308,
   "id": "344a162b",
   "metadata": {},
   "outputs": [],
   "source": [
    "#Importing required modules\n",
    "import numpy as np\n",
    "import pandas as pd\n",
    "import matplotlib.pyplot as plt\n",
    "import seaborn as sns\n",
    "import scipy\n",
    "import sklearn\n",
    "from sklearn.model_selection import GridSearchCV\n",
    "from sklearn.neighbors import KNeighborsRegressor\n",
    "from sklearn.model_selection import train_test_split\n",
    "from pandas.plotting import scatter_matrix\n",
    "from sklearn.preprocessing import MinMaxScaler\n",
    "from sklearn.linear_model import LinearRegression\n",
    "from sklearn.linear_model import Ridge\n",
    "from sklearn.metrics import accuracy_score\n",
    "from sklearn.linear_model import Lasso\n",
    "from sklearn.preprocessing import PolynomialFeatures\n",
    "from sklearn.linear_model import LinearRegression\n",
    "from sklearn.preprocessing import PolynomialFeatures\n",
    "from sklearn.svm import SVR, LinearSVR\n",
    "import os \n",
    "import graphviz\n",
    "from sklearn.tree import DecisionTreeRegressor"
   ]
  },
  {
   "cell_type": "code",
   "execution_count": 309,
   "id": "51625303",
   "metadata": {},
   "outputs": [
    {
     "data": {
      "text/html": [
       "<div>\n",
       "<style scoped>\n",
       "    .dataframe tbody tr th:only-of-type {\n",
       "        vertical-align: middle;\n",
       "    }\n",
       "\n",
       "    .dataframe tbody tr th {\n",
       "        vertical-align: top;\n",
       "    }\n",
       "\n",
       "    .dataframe thead th {\n",
       "        text-align: right;\n",
       "    }\n",
       "</style>\n",
       "<table border=\"1\" class=\"dataframe\">\n",
       "  <thead>\n",
       "    <tr style=\"text-align: right;\">\n",
       "      <th></th>\n",
       "      <th>Country</th>\n",
       "      <th>Year</th>\n",
       "      <th>Status</th>\n",
       "      <th>Life expectancy</th>\n",
       "      <th>Adult Mortality</th>\n",
       "      <th>infant deaths</th>\n",
       "      <th>Alcohol</th>\n",
       "      <th>percentage expenditure</th>\n",
       "      <th>Hepatitis B</th>\n",
       "      <th>Measles</th>\n",
       "      <th>...</th>\n",
       "      <th>Polio</th>\n",
       "      <th>Total expenditure</th>\n",
       "      <th>Diphtheria</th>\n",
       "      <th>HIV/AIDS</th>\n",
       "      <th>GDP</th>\n",
       "      <th>Population</th>\n",
       "      <th>thinness  1-19 years</th>\n",
       "      <th>thinness 5-9 years</th>\n",
       "      <th>Income composition of resources</th>\n",
       "      <th>Schooling</th>\n",
       "    </tr>\n",
       "  </thead>\n",
       "  <tbody>\n",
       "    <tr>\n",
       "      <th>0</th>\n",
       "      <td>Afghanistan</td>\n",
       "      <td>2015</td>\n",
       "      <td>Developing</td>\n",
       "      <td>65.0</td>\n",
       "      <td>263.0</td>\n",
       "      <td>62</td>\n",
       "      <td>0.01</td>\n",
       "      <td>71.279624</td>\n",
       "      <td>65.0</td>\n",
       "      <td>1154</td>\n",
       "      <td>...</td>\n",
       "      <td>6.0</td>\n",
       "      <td>8.16</td>\n",
       "      <td>65.0</td>\n",
       "      <td>0.1</td>\n",
       "      <td>584.259210</td>\n",
       "      <td>33736494.0</td>\n",
       "      <td>17.2</td>\n",
       "      <td>17.3</td>\n",
       "      <td>0.479</td>\n",
       "      <td>10.1</td>\n",
       "    </tr>\n",
       "    <tr>\n",
       "      <th>1</th>\n",
       "      <td>Afghanistan</td>\n",
       "      <td>2014</td>\n",
       "      <td>Developing</td>\n",
       "      <td>59.9</td>\n",
       "      <td>271.0</td>\n",
       "      <td>64</td>\n",
       "      <td>0.01</td>\n",
       "      <td>73.523582</td>\n",
       "      <td>62.0</td>\n",
       "      <td>492</td>\n",
       "      <td>...</td>\n",
       "      <td>58.0</td>\n",
       "      <td>8.18</td>\n",
       "      <td>62.0</td>\n",
       "      <td>0.1</td>\n",
       "      <td>612.696514</td>\n",
       "      <td>327582.0</td>\n",
       "      <td>17.5</td>\n",
       "      <td>17.5</td>\n",
       "      <td>0.476</td>\n",
       "      <td>10.0</td>\n",
       "    </tr>\n",
       "    <tr>\n",
       "      <th>2</th>\n",
       "      <td>Afghanistan</td>\n",
       "      <td>2013</td>\n",
       "      <td>Developing</td>\n",
       "      <td>59.9</td>\n",
       "      <td>268.0</td>\n",
       "      <td>66</td>\n",
       "      <td>0.01</td>\n",
       "      <td>73.219243</td>\n",
       "      <td>64.0</td>\n",
       "      <td>430</td>\n",
       "      <td>...</td>\n",
       "      <td>62.0</td>\n",
       "      <td>8.13</td>\n",
       "      <td>64.0</td>\n",
       "      <td>0.1</td>\n",
       "      <td>631.744976</td>\n",
       "      <td>31731688.0</td>\n",
       "      <td>17.7</td>\n",
       "      <td>17.7</td>\n",
       "      <td>0.470</td>\n",
       "      <td>9.9</td>\n",
       "    </tr>\n",
       "    <tr>\n",
       "      <th>3</th>\n",
       "      <td>Afghanistan</td>\n",
       "      <td>2012</td>\n",
       "      <td>Developing</td>\n",
       "      <td>59.5</td>\n",
       "      <td>272.0</td>\n",
       "      <td>69</td>\n",
       "      <td>0.01</td>\n",
       "      <td>78.184215</td>\n",
       "      <td>67.0</td>\n",
       "      <td>2787</td>\n",
       "      <td>...</td>\n",
       "      <td>67.0</td>\n",
       "      <td>8.52</td>\n",
       "      <td>67.0</td>\n",
       "      <td>0.1</td>\n",
       "      <td>669.959000</td>\n",
       "      <td>3696958.0</td>\n",
       "      <td>17.9</td>\n",
       "      <td>18.0</td>\n",
       "      <td>0.463</td>\n",
       "      <td>9.8</td>\n",
       "    </tr>\n",
       "    <tr>\n",
       "      <th>4</th>\n",
       "      <td>Afghanistan</td>\n",
       "      <td>2011</td>\n",
       "      <td>Developing</td>\n",
       "      <td>59.2</td>\n",
       "      <td>275.0</td>\n",
       "      <td>71</td>\n",
       "      <td>0.01</td>\n",
       "      <td>7.097109</td>\n",
       "      <td>68.0</td>\n",
       "      <td>3013</td>\n",
       "      <td>...</td>\n",
       "      <td>68.0</td>\n",
       "      <td>7.87</td>\n",
       "      <td>68.0</td>\n",
       "      <td>0.1</td>\n",
       "      <td>63.537231</td>\n",
       "      <td>2978599.0</td>\n",
       "      <td>18.2</td>\n",
       "      <td>18.2</td>\n",
       "      <td>0.454</td>\n",
       "      <td>9.5</td>\n",
       "    </tr>\n",
       "  </tbody>\n",
       "</table>\n",
       "<p>5 rows × 22 columns</p>\n",
       "</div>"
      ],
      "text/plain": [
       "       Country  Year      Status  Life expectancy   Adult Mortality  \\\n",
       "0  Afghanistan  2015  Developing              65.0            263.0   \n",
       "1  Afghanistan  2014  Developing              59.9            271.0   \n",
       "2  Afghanistan  2013  Developing              59.9            268.0   \n",
       "3  Afghanistan  2012  Developing              59.5            272.0   \n",
       "4  Afghanistan  2011  Developing              59.2            275.0   \n",
       "\n",
       "   infant deaths  Alcohol  percentage expenditure  Hepatitis B  Measles   ...  \\\n",
       "0             62     0.01               71.279624         65.0      1154  ...   \n",
       "1             64     0.01               73.523582         62.0       492  ...   \n",
       "2             66     0.01               73.219243         64.0       430  ...   \n",
       "3             69     0.01               78.184215         67.0      2787  ...   \n",
       "4             71     0.01                7.097109         68.0      3013  ...   \n",
       "\n",
       "   Polio  Total expenditure  Diphtheria    HIV/AIDS         GDP  Population  \\\n",
       "0    6.0               8.16         65.0        0.1  584.259210  33736494.0   \n",
       "1   58.0               8.18         62.0        0.1  612.696514    327582.0   \n",
       "2   62.0               8.13         64.0        0.1  631.744976  31731688.0   \n",
       "3   67.0               8.52         67.0        0.1  669.959000   3696958.0   \n",
       "4   68.0               7.87         68.0        0.1   63.537231   2978599.0   \n",
       "\n",
       "    thinness  1-19 years   thinness 5-9 years  \\\n",
       "0                   17.2                 17.3   \n",
       "1                   17.5                 17.5   \n",
       "2                   17.7                 17.7   \n",
       "3                   17.9                 18.0   \n",
       "4                   18.2                 18.2   \n",
       "\n",
       "   Income composition of resources  Schooling  \n",
       "0                            0.479       10.1  \n",
       "1                            0.476       10.0  \n",
       "2                            0.470        9.9  \n",
       "3                            0.463        9.8  \n",
       "4                            0.454        9.5  \n",
       "\n",
       "[5 rows x 22 columns]"
      ]
     },
     "execution_count": 309,
     "metadata": {},
     "output_type": "execute_result"
    }
   ],
   "source": [
    "#Importing data from csv file\n",
    "df_reg= pd.read_csv(\"Life Expectancy Data.csv\")\n",
    "df_reg.head()"
   ]
  },
  {
   "cell_type": "code",
   "execution_count": 310,
   "id": "cd042db8",
   "metadata": {},
   "outputs": [
    {
     "data": {
      "text/plain": [
       "(2938, 22)"
      ]
     },
     "execution_count": 310,
     "metadata": {},
     "output_type": "execute_result"
    }
   ],
   "source": [
    "#Checking shape of the data\n",
    "df_reg.shape"
   ]
  },
  {
   "cell_type": "code",
   "execution_count": 311,
   "id": "bb2366f4",
   "metadata": {},
   "outputs": [
    {
     "data": {
      "text/plain": [
       "Index(['Country', 'Year', 'Status', 'Life expectancy ', 'Adult Mortality',\n",
       "       'infant deaths', 'Alcohol', 'percentage expenditure', 'Hepatitis B',\n",
       "       'Measles ', ' BMI ', 'under-five deaths ', 'Polio', 'Total expenditure',\n",
       "       'Diphtheria ', ' HIV/AIDS', 'GDP', 'Population',\n",
       "       ' thinness  1-19 years', ' thinness 5-9 years',\n",
       "       'Income composition of resources', 'Schooling'],\n",
       "      dtype='object')"
      ]
     },
     "execution_count": 311,
     "metadata": {},
     "output_type": "execute_result"
    }
   ],
   "source": [
    "#checking columns\n",
    "df_reg.columns"
   ]
  },
  {
   "cell_type": "code",
   "execution_count": 312,
   "id": "09933ae8",
   "metadata": {},
   "outputs": [
    {
     "data": {
      "text/plain": [
       "Country                              0\n",
       "Year                                 0\n",
       "Status                               0\n",
       "Life expectancy                     10\n",
       "Adult Mortality                     10\n",
       "infant deaths                        0\n",
       "Alcohol                            194\n",
       "percentage expenditure               0\n",
       "Hepatitis B                        553\n",
       "Measles                              0\n",
       " BMI                                34\n",
       "under-five deaths                    0\n",
       "Polio                               19\n",
       "Total expenditure                  226\n",
       "Diphtheria                          19\n",
       " HIV/AIDS                            0\n",
       "GDP                                448\n",
       "Population                         652\n",
       " thinness  1-19 years               34\n",
       " thinness 5-9 years                 34\n",
       "Income composition of resources    167\n",
       "Schooling                          163\n",
       "dtype: int64"
      ]
     },
     "execution_count": 312,
     "metadata": {},
     "output_type": "execute_result"
    }
   ],
   "source": [
    "#Checking for null values\n",
    "df_reg.isnull().sum()"
   ]
  },
  {
   "cell_type": "markdown",
   "id": "5607d07e",
   "metadata": {},
   "source": [
    "## We take the metadata also, so that we can combine the countries into their respective Region category"
   ]
  },
  {
   "cell_type": "code",
   "execution_count": 314,
   "id": "036fd740",
   "metadata": {
    "scrolled": true
   },
   "outputs": [
    {
     "data": {
      "text/html": [
       "<div>\n",
       "<style scoped>\n",
       "    .dataframe tbody tr th:only-of-type {\n",
       "        vertical-align: middle;\n",
       "    }\n",
       "\n",
       "    .dataframe tbody tr th {\n",
       "        vertical-align: top;\n",
       "    }\n",
       "\n",
       "    .dataframe thead th {\n",
       "        text-align: right;\n",
       "    }\n",
       "</style>\n",
       "<table border=\"1\" class=\"dataframe\">\n",
       "  <thead>\n",
       "    <tr style=\"text-align: right;\">\n",
       "      <th></th>\n",
       "      <th>Country Name</th>\n",
       "      <th>Country Code</th>\n",
       "      <th>Region</th>\n",
       "      <th>IncomeGroup</th>\n",
       "      <th>SpecialNotes</th>\n",
       "    </tr>\n",
       "  </thead>\n",
       "  <tbody>\n",
       "    <tr>\n",
       "      <th>0</th>\n",
       "      <td>Aruba</td>\n",
       "      <td>ABW</td>\n",
       "      <td>Latin America &amp; Caribbean</td>\n",
       "      <td>High income: nonOECD</td>\n",
       "      <td>SNA data for 2000-2011 are updated from offici...</td>\n",
       "    </tr>\n",
       "    <tr>\n",
       "      <th>1</th>\n",
       "      <td>Afghanistan</td>\n",
       "      <td>AFG</td>\n",
       "      <td>South Asia</td>\n",
       "      <td>Low income</td>\n",
       "      <td>Fiscal year end: March 20; reporting period fo...</td>\n",
       "    </tr>\n",
       "    <tr>\n",
       "      <th>2</th>\n",
       "      <td>Angola</td>\n",
       "      <td>AGO</td>\n",
       "      <td>Sub-Saharan Africa</td>\n",
       "      <td>Upper middle income</td>\n",
       "      <td>April 2013 database update: Based on IMF data,...</td>\n",
       "    </tr>\n",
       "    <tr>\n",
       "      <th>3</th>\n",
       "      <td>Albania</td>\n",
       "      <td>ALB</td>\n",
       "      <td>Europe &amp; Central Asia</td>\n",
       "      <td>Upper middle income</td>\n",
       "      <td>NaN</td>\n",
       "    </tr>\n",
       "    <tr>\n",
       "      <th>4</th>\n",
       "      <td>Andorra</td>\n",
       "      <td>AND</td>\n",
       "      <td>Europe &amp; Central Asia</td>\n",
       "      <td>High income: nonOECD</td>\n",
       "      <td>NaN</td>\n",
       "    </tr>\n",
       "  </tbody>\n",
       "</table>\n",
       "</div>"
      ],
      "text/plain": [
       "  Country Name Country Code                     Region           IncomeGroup  \\\n",
       "0        Aruba          ABW  Latin America & Caribbean  High income: nonOECD   \n",
       "1  Afghanistan          AFG                 South Asia            Low income   \n",
       "2       Angola          AGO         Sub-Saharan Africa   Upper middle income   \n",
       "3      Albania          ALB      Europe & Central Asia   Upper middle income   \n",
       "4      Andorra          AND      Europe & Central Asia  High income: nonOECD   \n",
       "\n",
       "                                        SpecialNotes  \n",
       "0  SNA data for 2000-2011 are updated from offici...  \n",
       "1  Fiscal year end: March 20; reporting period fo...  \n",
       "2  April 2013 database update: Based on IMF data,...  \n",
       "3                                                NaN  \n",
       "4                                                NaN  "
      ]
     },
     "execution_count": 314,
     "metadata": {},
     "output_type": "execute_result"
    }
   ],
   "source": [
    "#Reading data from metadata\n",
    "df=pd.read_csv('Country-Metadata.csv')\n",
    "df.head()"
   ]
  },
  {
   "cell_type": "markdown",
   "id": "5f59d8e0",
   "metadata": {},
   "source": [
    "### Checking the unique regions in metadata."
   ]
  },
  {
   "cell_type": "code",
   "execution_count": 315,
   "id": "98272b4f",
   "metadata": {},
   "outputs": [
    {
     "data": {
      "text/plain": [
       "array(['Latin America & Caribbean', 'South Asia', 'Sub-Saharan Africa',\n",
       "       'Europe & Central Asia', 'Middle East & North Africa',\n",
       "       'East Asia & Pacific', 'North America'], dtype=object)"
      ]
     },
     "execution_count": 315,
     "metadata": {},
     "output_type": "execute_result"
    }
   ],
   "source": [
    "#Checking the unique regions in metadata.\n",
    "df['Region'].unique()"
   ]
  },
  {
   "cell_type": "code",
   "execution_count": 316,
   "id": "f32d70d2",
   "metadata": {
    "scrolled": true
   },
   "outputs": [
    {
     "data": {
      "text/plain": [
       "array(['Aruba', 'Argentina', 'Antigua and Barbuda', 'Bahamas, The',\n",
       "       'Belize', 'Bolivia', 'Brazil', 'Barbados', 'Chile', 'Colombia',\n",
       "       'Costa Rica', 'Cuba', 'Curaçao', 'Cayman Islands', 'Dominica',\n",
       "       'Dominican Republic', 'Ecuador', 'Grenada', 'Guatemala', 'Guyana',\n",
       "       'Honduras', 'Haiti', 'Jamaica', 'St. Kitts and Nevis', 'St. Lucia',\n",
       "       'St. Martin (French part)', 'Mexico', 'Nicaragua', 'Panama',\n",
       "       'Peru', 'Puerto Rico', 'Paraguay', 'El Salvador', 'Suriname',\n",
       "       'Sint Maarten (Dutch part)', 'Turks and Caicos Islands',\n",
       "       'Trinidad and Tobago', 'Uruguay', 'St. Vincent and the Grenadines',\n",
       "       'Venezuela, RB', 'Virgin Islands (U.S.)'], dtype=object)"
      ]
     },
     "execution_count": 316,
     "metadata": {},
     "output_type": "execute_result"
    }
   ],
   "source": [
    "df_latin=df[df['Region']=='Latin America & Caribbean']\n",
    "df_latin['Country Name'].unique()"
   ]
  },
  {
   "cell_type": "code",
   "execution_count": 317,
   "id": "afc18dba",
   "metadata": {},
   "outputs": [
    {
     "data": {
      "text/plain": [
       "array(['Afghanistan', 'Bangladesh', 'Bhutan', 'India', 'Sri Lanka',\n",
       "       'Maldives', 'Nepal', 'Pakistan'], dtype=object)"
      ]
     },
     "execution_count": 317,
     "metadata": {},
     "output_type": "execute_result"
    }
   ],
   "source": [
    "df_southasia=df[df['Region']=='South Asia']\n",
    "df_southasia['Country Name'].unique()"
   ]
  },
  {
   "cell_type": "code",
   "execution_count": 318,
   "id": "2c3eb501",
   "metadata": {},
   "outputs": [
    {
     "data": {
      "text/plain": [
       "array(['Angola', 'Burundi', 'Benin', 'Burkina Faso', 'Botswana',\n",
       "       'Central African Republic', \"Côte d'Ivoire\", 'Cameroon',\n",
       "       'Congo, Dem. Rep.', 'Congo, Rep.', 'Comoros', 'Cabo Verde',\n",
       "       'Eritrea', 'Ethiopia', 'Gabon', 'Ghana', 'Guinea', 'Gambia, The',\n",
       "       'Guinea-Bissau', 'Equatorial Guinea', 'Kenya', 'Liberia',\n",
       "       'Lesotho', 'Madagascar', 'Mali', 'Mozambique', 'Mauritania',\n",
       "       'Mauritius', 'Malawi', 'Namibia', 'Niger', 'Nigeria', 'Rwanda',\n",
       "       'Sudan', 'Senegal', 'Sierra Leone', 'Somalia', 'South Sudan',\n",
       "       'São Tomé and Principe', 'Swaziland', 'Seychelles', 'Chad', 'Togo',\n",
       "       'Tanzania', 'Uganda', 'South Africa', 'Zambia', 'Zimbabwe'],\n",
       "      dtype=object)"
      ]
     },
     "execution_count": 318,
     "metadata": {},
     "output_type": "execute_result"
    }
   ],
   "source": [
    "df_sa=df[df['Region']=='Sub-Saharan Africa']\n",
    "df_sa['Country Name'].unique()"
   ]
  },
  {
   "cell_type": "code",
   "execution_count": 319,
   "id": "48b6db08",
   "metadata": {},
   "outputs": [
    {
     "data": {
      "text/plain": [
       "array(['Albania', 'Andorra', 'Armenia', 'Austria', 'Azerbaijan',\n",
       "       'Belgium', 'Bulgaria', 'Bosnia and Herzegovina', 'Belarus',\n",
       "       'Switzerland', 'Channel Islands', 'Cyprus', 'Czech Republic',\n",
       "       'Germany', 'Denmark', 'Spain', 'Estonia', 'Finland', 'France',\n",
       "       'Faeroe Islands', 'United Kingdom', 'Georgia', 'Greece',\n",
       "       'Greenland', 'Croatia', 'Hungary', 'Isle of Man', 'Ireland',\n",
       "       'Iceland', 'Italy', 'Kazakhstan', 'Kyrgyz Republic', 'Kosovo',\n",
       "       'Liechtenstein', 'Lithuania', 'Luxembourg', 'Latvia', 'Monaco',\n",
       "       'Moldova', 'Macedonia, FYR', 'Montenegro', 'Netherlands', 'Norway',\n",
       "       'Poland', 'Portugal', 'Romania', 'Russian Federation',\n",
       "       'San Marino', 'Serbia', 'Slovak Republic', 'Slovenia', 'Sweden',\n",
       "       'Tajikistan', 'Turkmenistan', 'Turkey', 'Ukraine', 'Uzbekistan'],\n",
       "      dtype=object)"
      ]
     },
     "execution_count": 319,
     "metadata": {},
     "output_type": "execute_result"
    }
   ],
   "source": [
    "df_eca=df[df['Region']=='Europe & Central Asia']\n",
    "df_eca['Country Name'].unique()"
   ]
  },
  {
   "cell_type": "code",
   "execution_count": 320,
   "id": "21d43a5b",
   "metadata": {},
   "outputs": [
    {
     "data": {
      "text/plain": [
       "array(['United Arab Emirates', 'Bahrain', 'Djibouti', 'Algeria',\n",
       "       'Egypt, Arab Rep.', 'Iran, Islamic Rep.', 'Iraq', 'Israel',\n",
       "       'Jordan', 'Kuwait', 'Lebanon', 'Libya', 'Morocco', 'Malta', 'Oman',\n",
       "       'West Bank and Gaza', 'Qatar', 'Saudi Arabia',\n",
       "       'Syrian Arab Republic', 'Tunisia', 'Yemen, Rep.'], dtype=object)"
      ]
     },
     "execution_count": 320,
     "metadata": {},
     "output_type": "execute_result"
    }
   ],
   "source": [
    "df_mena=df[df['Region']=='Middle East & North Africa']\n",
    "df_mena['Country Name'].unique()"
   ]
  },
  {
   "cell_type": "code",
   "execution_count": 321,
   "id": "2c9814b9",
   "metadata": {},
   "outputs": [
    {
     "data": {
      "text/plain": [
       "array(['American Samoa', 'Australia', 'Brunei Darussalam', 'China',\n",
       "       'Fiji', 'Micronesia, Fed. Sts.', 'Guam', 'Hong Kong SAR, China',\n",
       "       'Indonesia', 'Japan', 'Cambodia', 'Kiribati', 'Korea, Rep.',\n",
       "       'Lao PDR', 'Macao SAR, China', 'Marshall Islands', 'Myanmar',\n",
       "       'Mongolia', 'Northern Mariana Islands', 'Malaysia',\n",
       "       'New Caledonia', 'New Zealand', 'Philippines', 'Palau',\n",
       "       'Papua New Guinea', 'Korea, Dem. Rep.', 'French Polynesia',\n",
       "       'Singapore', 'Solomon Islands', 'Thailand', 'Timor-Leste', 'Tonga',\n",
       "       'Tuvalu', 'Taiwan, China', 'Vietnam', 'Vanuatu', 'Samoa'],\n",
       "      dtype=object)"
      ]
     },
     "execution_count": 321,
     "metadata": {},
     "output_type": "execute_result"
    }
   ],
   "source": [
    "df_eap=df[df['Region']=='East Asia & Pacific']\n",
    "df_eap['Country Name'].unique()"
   ]
  },
  {
   "cell_type": "code",
   "execution_count": 322,
   "id": "0954c2b9",
   "metadata": {},
   "outputs": [
    {
     "data": {
      "text/plain": [
       "array(['Bermuda', 'Canada', 'United States'], dtype=object)"
      ]
     },
     "execution_count": 322,
     "metadata": {},
     "output_type": "execute_result"
    }
   ],
   "source": [
    "df_eap=df[df['Region']=='North America']\n",
    "df_eap['Country Name'].unique()"
   ]
  },
  {
   "cell_type": "markdown",
   "id": "b35526a4",
   "metadata": {},
   "source": [
    "### Changing all North American countries to North America Region"
   ]
  },
  {
   "cell_type": "code",
   "execution_count": 323,
   "id": "3030e1a4",
   "metadata": {},
   "outputs": [],
   "source": [
    "#Changing all North American countries to North America Region\n",
    "df_reg['Country'].replace(to_replace=['Bermuda', 'Canada', 'United States'],value=\"North America\",inplace=True)"
   ]
  },
  {
   "cell_type": "markdown",
   "id": "153c0e9f",
   "metadata": {},
   "source": [
    "### changing all East Asia & Pacific countries to East Asia & Pacific region"
   ]
  },
  {
   "cell_type": "code",
   "execution_count": 324,
   "id": "d1afe635",
   "metadata": {},
   "outputs": [],
   "source": [
    "#changing all East Asia & Pacific countries to East Asia & Pacific region\n",
    "df_reg['Country'].replace(to_replace=['American Samoa', 'Australia', 'Brunei Darussalam', 'China',\n",
    "       'Fiji', 'Micronesia, Fed. Sts.', 'Guam', 'Hong Kong SAR, China',\n",
    "       'Indonesia', 'Japan', 'Cambodia', 'Kiribati', 'Korea, Rep.',\n",
    "       'Lao PDR', 'Macao SAR, China', 'Marshall Islands', 'Myanmar',\n",
    "       'Mongolia', 'Northern Mariana Islands', 'Malaysia',\n",
    "       'New Caledonia', 'New Zealand', 'Philippines', 'Palau',\n",
    "       'Papua New Guinea', 'Korea, Dem. Rep.', 'French Polynesia',\n",
    "       'Singapore', 'Solomon Islands', 'Thailand', 'Timor-Leste', 'Tonga',\n",
    "       'Tuvalu', 'Taiwan, China', 'Vietnam', 'Vanuatu', 'Samoa'],value=\"East Asia & Pacific\",inplace=True)\n"
   ]
  },
  {
   "cell_type": "markdown",
   "id": "566d9f9f",
   "metadata": {},
   "source": [
    "### Changing Middle East & North Africa countries to Middle East & North Africa region"
   ]
  },
  {
   "cell_type": "code",
   "execution_count": 325,
   "id": "25f19afd",
   "metadata": {},
   "outputs": [],
   "source": [
    "# Changing Middle East & North Africa countries to Middle East & North Africa region\n",
    "df_reg['Country'].replace(to_replace=['United Arab Emirates', 'Bahrain', 'Djibouti', 'Algeria',\n",
    "       'Egypt, Arab Rep.', 'Iran, Islamic Rep.', 'Iraq', 'Israel',\n",
    "       'Jordan', 'Kuwait', 'Lebanon', 'Libya', 'Morocco', 'Malta', 'Oman',\n",
    "       'West Bank and Gaza', 'Qatar', 'Saudi Arabia',\n",
    "       'Syrian Arab Republic', 'Tunisia', 'Yemen, Rep.'],value=\"Middle East & North Africa\",inplace=True)"
   ]
  },
  {
   "cell_type": "markdown",
   "id": "5ffcbc3f",
   "metadata": {},
   "source": [
    "### Changing Europe & Central Asia countries to Europe & Central Asia region"
   ]
  },
  {
   "cell_type": "code",
   "execution_count": 326,
   "id": "290a666d",
   "metadata": {},
   "outputs": [],
   "source": [
    "#Changing Europe & Central Asia countries to Europe & Central Asia region\n",
    "df_reg['Country'].replace(to_replace=['Albania', 'Andorra', 'Armenia', 'Austria', 'Azerbaijan',\n",
    "       'Belgium', 'Bulgaria', 'Bosnia and Herzegovina', 'Belarus',\n",
    "       'Switzerland', 'Channel Islands', 'Cyprus', 'Czech Republic',\n",
    "       'Germany', 'Denmark', 'Spain', 'Estonia', 'Finland', 'France',\n",
    "       'Faeroe Islands', 'United Kingdom', 'Georgia', 'Greece',\n",
    "       'Greenland', 'Croatia', 'Hungary', 'Isle of Man', 'Ireland',\n",
    "       'Iceland', 'Italy', 'Kazakhstan', 'Kyrgyz Republic', 'Kosovo',\n",
    "       'Liechtenstein', 'Lithuania', 'Luxembourg', 'Latvia', 'Monaco',\n",
    "       'Moldova', 'Macedonia, FYR', 'Montenegro', 'Netherlands', 'Norway',\n",
    "       'Poland', 'Portugal', 'Romania', 'Russian Federation',\n",
    "       'San Marino', 'Serbia', 'Slovak Republic', 'Slovenia', 'Sweden',\n",
    "       'Tajikistan', 'Turkmenistan', 'Turkey', 'Ukraine', 'Uzbekistan'],value=\"Europe & Central Asia\",inplace=True)\n",
    "\n"
   ]
  },
  {
   "cell_type": "markdown",
   "id": "e38100cb",
   "metadata": {},
   "source": [
    "### Changing Sub-Saharan Africa countries to Sub-Saharan Africa region"
   ]
  },
  {
   "cell_type": "code",
   "execution_count": 327,
   "id": "e7d75c39",
   "metadata": {},
   "outputs": [],
   "source": [
    "#Changing Sub-Saharan Africa countries to Sub-Saharan Africa region\n",
    "df_reg['Country'].replace(to_replace=['Angola', 'Burundi', 'Benin', 'Burkina Faso', 'Botswana',\n",
    "       'Central African Republic', \"Côte d'Ivoire\", 'Cameroon',\n",
    "       'Congo, Dem. Rep.', 'Congo, Rep.', 'Comoros', 'Cabo Verde',\n",
    "       'Eritrea', 'Ethiopia', 'Gabon', 'Ghana', 'Guinea', 'Gambia, The',\n",
    "       'Guinea-Bissau', 'Equatorial Guinea', 'Kenya', 'Liberia',\n",
    "       'Lesotho', 'Madagascar', 'Mali', 'Mozambique', 'Mauritania',\n",
    "       'Mauritius', 'Malawi', 'Namibia', 'Niger', 'Nigeria', 'Rwanda',\n",
    "       'Sudan', 'Senegal', 'Sierra Leone', 'Somalia', 'South Sudan',\n",
    "       'São Tomé and Principe', 'Swaziland', 'Seychelles', 'Chad', 'Togo',\n",
    "       'Tanzania', 'Uganda', 'South Africa', 'Zambia', 'Zimbabwe'],value=\"Sub-Saharan Africa\",inplace=True)\n"
   ]
  },
  {
   "cell_type": "markdown",
   "id": "923f53df",
   "metadata": {},
   "source": [
    "### Changing South Asia countries to South Asia region"
   ]
  },
  {
   "cell_type": "code",
   "execution_count": 328,
   "id": "b4029e29",
   "metadata": {},
   "outputs": [],
   "source": [
    "#Changing South Asia countries to South Asia region\n",
    "df_reg['Country'].replace(to_replace=['Afghanistan', 'Bangladesh', 'Bhutan', 'India', 'Sri Lanka',\n",
    "       'Maldives', 'Nepal', 'Pakistan'],value=\"South Asia\",inplace=True)\n"
   ]
  },
  {
   "cell_type": "markdown",
   "id": "e5dac54b",
   "metadata": {},
   "source": [
    "### Changing Latin America & Caribbean countries to Latin America & Caribbean region"
   ]
  },
  {
   "cell_type": "code",
   "execution_count": 329,
   "id": "26ae9d27",
   "metadata": {},
   "outputs": [],
   "source": [
    "#Changing Latin America & Caribbean countries to Latin America & Caribbean region\n",
    "df_reg['Country'].replace(to_replace=['Aruba', 'Argentina', 'Antigua and Barbuda', 'Bahamas, The',\n",
    "       'Belize', 'Bolivia', 'Brazil', 'Barbados', 'Chile', 'Colombia',\n",
    "       'Costa Rica', 'Cuba', 'Curaçao', 'Cayman Islands', 'Dominica',\n",
    "       'Dominican Republic', 'Ecuador', 'Grenada', 'Guatemala', 'Guyana',\n",
    "       'Honduras', 'Haiti', 'Jamaica', 'St. Kitts and Nevis', 'St. Lucia',\n",
    "       'St. Martin (French part)', 'Mexico', 'Nicaragua', 'Panama',\n",
    "       'Peru', 'Puerto Rico', 'Paraguay', 'El Salvador', 'Suriname',\n",
    "       'Sint Maarten (Dutch part)', 'Turks and Caicos Islands',\n",
    "       'Trinidad and Tobago', 'Uruguay', 'St. Vincent and the Grenadines',\n",
    "       'Venezuela, RB', 'Virgin Islands (U.S.)'],value=\"Latin America & Caribbean\",inplace=True)\n"
   ]
  },
  {
   "cell_type": "code",
   "execution_count": 330,
   "id": "1b217614",
   "metadata": {},
   "outputs": [
    {
     "data": {
      "text/plain": [
       "Sub-Saharan Africa                                      688\n",
       "Europe & Central Asia                                   674\n",
       "Latin America & Caribbean                               417\n",
       "East Asia & Pacific                                     339\n",
       "Middle East & North Africa                              272\n",
       "South Asia                                              128\n",
       "Viet Nam                                                 16\n",
       "Venezuela (Bolivarian Republic of)                       16\n",
       "United States of America                                 16\n",
       "Micronesia (Federated States of)                         16\n",
       "United Kingdom of Great Britain and Northern Ireland     16\n",
       "The former Yugoslav republic of Macedonia                16\n",
       "Slovakia                                                 16\n",
       "Sao Tome and Principe                                    16\n",
       "Saint Vincent and the Grenadines                         16\n",
       "Saint Lucia                                              16\n",
       "Republic of Moldova                                      16\n",
       "Republic of Korea                                        16\n",
       "United Republic of Tanzania                              16\n",
       "Lao People's Democratic Republic                         16\n",
       "Kyrgyzstan                                               16\n",
       "Iran (Islamic Republic of)                               16\n",
       "Gambia                                                   16\n",
       "Egypt                                                    16\n",
       "Democratic Republic of the Congo                         16\n",
       "Democratic People's Republic of Korea                    16\n",
       "Czechia                                                  16\n",
       "Congo                                                    16\n",
       "North America                                            16\n",
       "Bolivia (Plurinational State of)                         16\n",
       "Bahamas                                                  16\n",
       "Yemen                                                    16\n",
       "Nauru                                                     1\n",
       "Niue                                                      1\n",
       "Saint Kitts and Nevis                                     1\n",
       "Cook Islands                                              1\n",
       "Name: Country, dtype: int64"
      ]
     },
     "execution_count": 330,
     "metadata": {},
     "output_type": "execute_result"
    }
   ],
   "source": [
    "df_reg['Country'].value_counts()"
   ]
  },
  {
   "cell_type": "markdown",
   "id": "34ec743c",
   "metadata": {},
   "source": [
    "### Placing countries with nmaing errors into their respective regions"
   ]
  },
  {
   "cell_type": "code",
   "execution_count": 331,
   "id": "49db0e7c",
   "metadata": {},
   "outputs": [],
   "source": [
    "#Placing countries with nmaing errors into their respective regions\n",
    "df_reg['Country'].replace(to_replace=[\"United States of America\",\"Saint Lucia\"],value=\"North America\",inplace=True)\n",
    "df_reg['Country'].replace(to_replace=[\"The former Yugoslav republic of Macedonia\",\"Kyrgyzstan\",\"Slovakia\",\"Czechia\",\"United Kingdom of Great Britain and Northern Ireland\",\"Republic of Moldova\"],value=\"Europe & Central Asia\",inplace=True)\n",
    "df_reg['Country'].replace(to_replace=[\"Republic of Korea\",\"Democratic People's Republic of Korea\",\"Viet Nam\",\"Micronesia (Federated States of)\",\"Lao People's Democratic Republic\",\"Cook Islands\",\"Nauru\",\"Niue\"],value=\"East Asia & Pacific\",inplace=True)\n",
    "df_reg['Country'].replace(to_replace=[\"Iran\",\"Egypt\",\"Yemen\",\"Iran (Islamic Republic of)\"],value=\"Middle East & North Africa\",inplace=True)\n",
    "df_reg['Country'].replace(to_replace=[\"Gambia\",\"Congo\",\"Democratic Republic of the Congo\",\"United Republic of Tanzania\",\"Sao Tome and Principe\"],value=\"Sub-Saharan Africa\",inplace=True)\n",
    "df_reg['Country'].replace(to_replace=[\"Bahamas\",\"Bolivia\",\"Bolivia (Plurinational State of)\",\"Venezuela (Bolivarian Republic of)\",\"Saint Vincent and the Grenadines\",\"Saint Kitts and Nevis\"],value=\"Latin America & Caribbean\",inplace=True)"
   ]
  },
  {
   "cell_type": "code",
   "execution_count": 332,
   "id": "4bb5a21c",
   "metadata": {},
   "outputs": [
    {
     "data": {
      "text/plain": [
       "Europe & Central Asia         770\n",
       "Sub-Saharan Africa            768\n",
       "Latin America & Caribbean     482\n",
       "East Asia & Pacific           422\n",
       "Middle East & North Africa    320\n",
       "South Asia                    128\n",
       "North America                  48\n",
       "Name: Country, dtype: int64"
      ]
     },
     "execution_count": 332,
     "metadata": {},
     "output_type": "execute_result"
    }
   ],
   "source": [
    "df_reg['Country'].value_counts()"
   ]
  },
  {
   "cell_type": "markdown",
   "id": "b9087264",
   "metadata": {},
   "source": [
    "### counts of countries in the Region"
   ]
  },
  {
   "cell_type": "code",
   "execution_count": 333,
   "id": "e23b253e",
   "metadata": {},
   "outputs": [
    {
     "data": {
      "image/png": "[encoded data removed]",
      "text/plain": [
       "<Figure size 1368x432 with 1 Axes>"
      ]
     },
     "metadata": {},
     "output_type": "display_data"
    }
   ],
   "source": [
    "plt.figure(figsize=(19,6))\n",
    "sns.countplot(x='Country',data=df_reg)\n",
    "plt.title('Count of countries in the Region')\n",
    "plt.show()"
   ]
  },
  {
   "cell_type": "code",
   "execution_count": 334,
   "id": "9a601d03",
   "metadata": {},
   "outputs": [
    {
     "data": {
      "text/plain": [
       "Index(['Country', 'Year', 'Status', 'Life expectancy ', 'Adult Mortality',\n",
       "       'infant deaths', 'Alcohol', 'percentage expenditure', 'Hepatitis B',\n",
       "       'Measles ', ' BMI ', 'under-five deaths ', 'Polio', 'Total expenditure',\n",
       "       'Diphtheria ', ' HIV/AIDS', 'GDP', 'Population',\n",
       "       ' thinness  1-19 years', ' thinness 5-9 years',\n",
       "       'Income composition of resources', 'Schooling'],\n",
       "      dtype='object')"
      ]
     },
     "execution_count": 334,
     "metadata": {},
     "output_type": "execute_result"
    }
   ],
   "source": [
    "df_reg.columns"
   ]
  },
  {
   "cell_type": "markdown",
   "id": "9f9b5bdf",
   "metadata": {},
   "source": [
    "### Checking null values for Status column"
   ]
  },
  {
   "cell_type": "code",
   "execution_count": 335,
   "id": "30e5579f",
   "metadata": {},
   "outputs": [
    {
     "data": {
      "text/plain": [
       "0"
      ]
     },
     "execution_count": 335,
     "metadata": {},
     "output_type": "execute_result"
    }
   ],
   "source": [
    "#Chacking null values for Status column\n",
    "df_reg['Status'].isna().sum()"
   ]
  },
  {
   "cell_type": "markdown",
   "id": "dccaf44b",
   "metadata": {},
   "source": [
    "### Checking different types of values of Status"
   ]
  },
  {
   "cell_type": "code",
   "execution_count": 336,
   "id": "6681bb58",
   "metadata": {},
   "outputs": [
    {
     "data": {
      "text/plain": [
       "array(['Developing', 'Developed'], dtype=object)"
      ]
     },
     "execution_count": 336,
     "metadata": {},
     "output_type": "execute_result"
    }
   ],
   "source": [
    "#Checking different types of values of Status\n",
    "df_reg['Status'].unique()"
   ]
  },
  {
   "cell_type": "markdown",
   "id": "fbbd4cad",
   "metadata": {},
   "source": [
    "### Counting the values in Status Column"
   ]
  },
  {
   "cell_type": "code",
   "execution_count": 337,
   "id": "cdcaaa6e",
   "metadata": {},
   "outputs": [
    {
     "data": {
      "text/plain": [
       "Developing    2426\n",
       "Developed      512\n",
       "Name: Status, dtype: int64"
      ]
     },
     "execution_count": 337,
     "metadata": {},
     "output_type": "execute_result"
    }
   ],
   "source": [
    "#Counting the values in Status Column\n",
    "df_reg['Status'].value_counts()"
   ]
  },
  {
   "cell_type": "markdown",
   "id": "396bf5f5",
   "metadata": {},
   "source": [
    "### Visulaization of Status Column"
   ]
  },
  {
   "cell_type": "code",
   "execution_count": 338,
   "id": "ab20083d",
   "metadata": {},
   "outputs": [
    {
     "data": {
      "image/png": "[encoded data removed]",
      "text/plain": [
       "<Figure size 432x288 with 1 Axes>"
      ]
     },
     "metadata": {},
     "output_type": "display_data"
    }
   ],
   "source": [
    "#Visulaization of Status Column\n",
    "explode =[0.0,0.15]\n",
    "plt.pie(df_reg['Status'].value_counts(), labels=['Developing', 'Developed'], explode=explode,shadow=0.3,autopct='%1.2f%%')\n",
    "plt.title('Percentage of columns based on Status')\n",
    "plt.show()"
   ]
  },
  {
   "cell_type": "markdown",
   "id": "5436f76c",
   "metadata": {},
   "source": [
    "### Changing developed to 0 and developing to 1"
   ]
  },
  {
   "cell_type": "code",
   "execution_count": 339,
   "id": "a003c86e",
   "metadata": {},
   "outputs": [
    {
     "data": {
      "text/plain": [
       "1    2426\n",
       "0     512\n",
       "Name: Status, dtype: int64"
      ]
     },
     "execution_count": 339,
     "metadata": {},
     "output_type": "execute_result"
    }
   ],
   "source": [
    "#Changing developed to 0 and developing to 1\n",
    "df_reg['Status'] = df_reg['Status'].map({'Developed':0, 'Developing':1}).astype(int)\n",
    "df_reg['Status'].value_counts()"
   ]
  },
  {
   "cell_type": "markdown",
   "id": "f64a0a52",
   "metadata": {},
   "source": [
    "### Infant DEaths"
   ]
  },
  {
   "cell_type": "code",
   "execution_count": 340,
   "id": "0b0bc56b",
   "metadata": {},
   "outputs": [
    {
     "data": {
      "text/plain": [
       "0"
      ]
     },
     "execution_count": 340,
     "metadata": {},
     "output_type": "execute_result"
    }
   ],
   "source": [
    "#Infant DEaths\n",
    "df_reg['infant deaths'].isna().sum()"
   ]
  },
  {
   "cell_type": "code",
   "execution_count": 341,
   "id": "65d72911",
   "metadata": {},
   "outputs": [
    {
     "data": {
      "text/plain": [
       "0      848\n",
       "1      342\n",
       "2      203\n",
       "3      175\n",
       "4       96\n",
       "      ... \n",
       "171      1\n",
       "201      1\n",
       "215      1\n",
       "253      1\n",
       "110      1\n",
       "Name: infant deaths, Length: 209, dtype: int64"
      ]
     },
     "execution_count": 341,
     "metadata": {},
     "output_type": "execute_result"
    }
   ],
   "source": [
    "df_reg['infant deaths'].value_counts()"
   ]
  },
  {
   "cell_type": "code",
   "execution_count": 342,
   "id": "2dc00ba4",
   "metadata": {},
   "outputs": [
    {
     "data": {
      "text/plain": [
       "194"
      ]
     },
     "execution_count": 342,
     "metadata": {},
     "output_type": "execute_result"
    }
   ],
   "source": [
    "#Alcohol\n",
    "df_reg['Alcohol'].isna().sum()"
   ]
  },
  {
   "cell_type": "markdown",
   "id": "63a9c83e",
   "metadata": {},
   "source": [
    "### Alcohol column visulization"
   ]
  },
  {
   "cell_type": "code",
   "execution_count": 343,
   "id": "181685cc",
   "metadata": {},
   "outputs": [
    {
     "data": {
      "image/png": "[encoded data removed]",
      "text/plain": [
       "<Figure size 864x504 with 1 Axes>"
      ]
     },
     "metadata": {},
     "output_type": "display_data"
    }
   ],
   "source": [
    "# Alcohol column visulization\n",
    "plt.figure(figsize=(12,7))\n",
    "plt.hist(df_reg['Alcohol'],bins='sturges')\n",
    "plt.grid()\n",
    "plt.show()"
   ]
  },
  {
   "cell_type": "markdown",
   "id": "9493f004",
   "metadata": {},
   "source": [
    "### We see that the plot is right skewed so we are imputing it with median"
   ]
  },
  {
   "cell_type": "code",
   "execution_count": 344,
   "id": "3bb85c9b",
   "metadata": {},
   "outputs": [
    {
     "data": {
      "text/plain": [
       "0"
      ]
     },
     "execution_count": 344,
     "metadata": {},
     "output_type": "execute_result"
    }
   ],
   "source": [
    "#We see that the plot is right skewed so we are imputing it with median\n",
    "df_reg['Alcohol'].replace(to_replace=np.NaN,value=df_reg['Alcohol'].median(),inplace=True)\n",
    "df_reg['Alcohol'].isna().sum()"
   ]
  },
  {
   "cell_type": "markdown",
   "id": "e7bd7bb2",
   "metadata": {},
   "source": [
    "### Hepatitis B"
   ]
  },
  {
   "cell_type": "code",
   "execution_count": 345,
   "id": "ea61bfde",
   "metadata": {},
   "outputs": [
    {
     "data": {
      "text/plain": [
       "553"
      ]
     },
     "execution_count": 345,
     "metadata": {},
     "output_type": "execute_result"
    }
   ],
   "source": [
    "#Hepatitis B\n",
    "df_reg['Hepatitis B'].isna().sum()"
   ]
  },
  {
   "cell_type": "markdown",
   "id": "ea3ba472",
   "metadata": {},
   "source": [
    "### Hepatatis B column visulization"
   ]
  },
  {
   "cell_type": "code",
   "execution_count": 346,
   "id": "9b904dd0",
   "metadata": {},
   "outputs": [
    {
     "data": {
      "image/png": "[encoded data removed]",
      "text/plain": [
       "<Figure size 864x504 with 1 Axes>"
      ]
     },
     "metadata": {},
     "output_type": "display_data"
    }
   ],
   "source": [
    "# Hepatatis B column visulization\n",
    "plt.figure(figsize=(12,7))\n",
    "plt.hist(df_reg['Hepatitis B'],bins='sturges')\n",
    "plt.grid()\n",
    "plt.show()"
   ]
  },
  {
   "cell_type": "markdown",
   "id": "7ae45e46",
   "metadata": {},
   "source": [
    "### The data is left skewed , so we are imputing it with median"
   ]
  },
  {
   "cell_type": "code",
   "execution_count": 347,
   "id": "141fa44e",
   "metadata": {},
   "outputs": [
    {
     "data": {
      "text/plain": [
       "0"
      ]
     },
     "execution_count": 347,
     "metadata": {},
     "output_type": "execute_result"
    }
   ],
   "source": [
    "#The data is left skewed , so we are imputing it with median\n",
    "df_reg['Hepatitis B'].replace(to_replace=np.NaN,value=df_reg['Hepatitis B'].median(),inplace=True)\n",
    "df_reg['Hepatitis B'].isna().sum()"
   ]
  },
  {
   "cell_type": "markdown",
   "id": "1411bca8",
   "metadata": {},
   "source": [
    "### BMI "
   ]
  },
  {
   "cell_type": "code",
   "execution_count": 348,
   "id": "721b0623",
   "metadata": {},
   "outputs": [
    {
     "data": {
      "text/plain": [
       "34"
      ]
     },
     "execution_count": 348,
     "metadata": {},
     "output_type": "execute_result"
    }
   ],
   "source": [
    "# BMI \n",
    "df_reg[' BMI '].isna().sum()"
   ]
  },
  {
   "cell_type": "markdown",
   "id": "79803d75",
   "metadata": {},
   "source": [
    "### BMI column visulization"
   ]
  },
  {
   "cell_type": "code",
   "execution_count": 349,
   "id": "5adb4d93",
   "metadata": {},
   "outputs": [
    {
     "data": {
      "image/png": "[encoded data removed]",
      "text/plain": [
       "<Figure size 864x504 with 1 Axes>"
      ]
     },
     "metadata": {},
     "output_type": "display_data"
    }
   ],
   "source": [
    "# BMI column visulization\n",
    "plt.figure(figsize=(12,7))\n",
    "plt.hist(df_reg[' BMI '],bins='sturges')\n",
    "plt.grid()\n",
    "plt.show()"
   ]
  },
  {
   "cell_type": "markdown",
   "id": "44e4ca6d",
   "metadata": {},
   "source": [
    "### It looks like a double shaped or bi modal graph"
   ]
  },
  {
   "cell_type": "code",
   "execution_count": 350,
   "id": "ee594516",
   "metadata": {},
   "outputs": [
    {
     "data": {
      "text/plain": [
       "0"
      ]
     },
     "execution_count": 350,
     "metadata": {},
     "output_type": "execute_result"
    }
   ],
   "source": [
    "df_reg[' BMI '].replace(to_replace=np.NaN,value=df_reg[' BMI '].median(),inplace=True)\n",
    "df_reg[' BMI '].isna().sum() "
   ]
  },
  {
   "cell_type": "markdown",
   "id": "ee6ac66a",
   "metadata": {},
   "source": [
    "### Checking missing values in Polio Column"
   ]
  },
  {
   "cell_type": "code",
   "execution_count": 351,
   "id": "3c1199db",
   "metadata": {},
   "outputs": [
    {
     "data": {
      "text/plain": [
       "19"
      ]
     },
     "execution_count": 351,
     "metadata": {},
     "output_type": "execute_result"
    }
   ],
   "source": [
    "#Checking missing values in Polio Column\n",
    "df_reg['Polio'].isna().sum()"
   ]
  },
  {
   "cell_type": "markdown",
   "id": "f1baf26b",
   "metadata": {},
   "source": [
    "### Visulization of Polio column"
   ]
  },
  {
   "cell_type": "code",
   "execution_count": 352,
   "id": "31031ce3",
   "metadata": {},
   "outputs": [
    {
     "data": {
      "image/png": "[encoded data removed]",
      "text/plain": [
       "<Figure size 864x504 with 1 Axes>"
      ]
     },
     "metadata": {},
     "output_type": "display_data"
    }
   ],
   "source": [
    "#Visulization of Polio column\n",
    "plt.figure(figsize=(12,7))\n",
    "plt.hist(df_reg['Polio'],bins='sturges')\n",
    "plt.grid()\n",
    "plt.show()"
   ]
  },
  {
   "cell_type": "markdown",
   "id": "d27d54cf",
   "metadata": {},
   "source": [
    "### The curve is left skewed, so we will replce missing values with median values"
   ]
  },
  {
   "cell_type": "code",
   "execution_count": 353,
   "id": "3681013d",
   "metadata": {},
   "outputs": [
    {
     "data": {
      "text/plain": [
       "0"
      ]
     },
     "execution_count": 353,
     "metadata": {},
     "output_type": "execute_result"
    }
   ],
   "source": [
    "#The curve is left skewed, so we will replce missing values with median values\n",
    "df_reg['Polio'].replace(to_replace=np.NaN,value=df_reg['Polio'].median(),inplace=True)\n",
    "df_reg['Polio'].isna().sum() "
   ]
  },
  {
   "cell_type": "markdown",
   "id": "6b529785",
   "metadata": {},
   "source": [
    "### Total expenditure Column"
   ]
  },
  {
   "cell_type": "code",
   "execution_count": 354,
   "id": "39a5b35d",
   "metadata": {},
   "outputs": [
    {
     "data": {
      "text/plain": [
       "226"
      ]
     },
     "execution_count": 354,
     "metadata": {},
     "output_type": "execute_result"
    }
   ],
   "source": [
    "#Total expenditure Column\n",
    "df_reg['Total expenditure'].isna().sum()"
   ]
  },
  {
   "cell_type": "markdown",
   "id": "3488fd62",
   "metadata": {},
   "source": [
    "### Visulaization of Total expenditure Column"
   ]
  },
  {
   "cell_type": "code",
   "execution_count": 355,
   "id": "7c004ff9",
   "metadata": {},
   "outputs": [
    {
     "data": {
      "image/png": "[encoded data removed]",
      "text/plain": [
       "<Figure size 864x504 with 1 Axes>"
      ]
     },
     "metadata": {},
     "output_type": "display_data"
    }
   ],
   "source": [
    "#Visulaization of Total expenditure Column\n",
    "plt.figure(figsize=(12,7))\n",
    "plt.hist(df_reg['Total expenditure'],bins='sturges')\n",
    "plt.grid()\n",
    "plt.show()"
   ]
  },
  {
   "cell_type": "markdown",
   "id": "9c71ffbd",
   "metadata": {},
   "source": [
    "### The histogram is almost a normal curve, so we use mean to replce the missing values"
   ]
  },
  {
   "cell_type": "code",
   "execution_count": 356,
   "id": "d5af702e",
   "metadata": {},
   "outputs": [
    {
     "data": {
      "text/plain": [
       "0"
      ]
     },
     "execution_count": 356,
     "metadata": {},
     "output_type": "execute_result"
    }
   ],
   "source": [
    "#The histogram is almost a normal curve, so we use mean to replce the missing values\n",
    "df_reg['Total expenditure'].replace(to_replace=np.NaN,value=df_reg['Total expenditure'].mean(),inplace=True)\n",
    "df_reg['Total expenditure'].isna().sum()"
   ]
  },
  {
   "cell_type": "markdown",
   "id": "16ca33ce",
   "metadata": {},
   "source": [
    "### Diphtheria Column"
   ]
  },
  {
   "cell_type": "code",
   "execution_count": 357,
   "id": "00e7eab0",
   "metadata": {},
   "outputs": [
    {
     "data": {
      "text/plain": [
       "19"
      ]
     },
     "execution_count": 357,
     "metadata": {},
     "output_type": "execute_result"
    }
   ],
   "source": [
    "#Diphtheria Column\n",
    "df_reg['Diphtheria '].isna().sum()"
   ]
  },
  {
   "cell_type": "markdown",
   "id": "476a3acf",
   "metadata": {},
   "source": [
    "### Visualization of Diptheria Column"
   ]
  },
  {
   "cell_type": "code",
   "execution_count": 358,
   "id": "10d7ad98",
   "metadata": {},
   "outputs": [
    {
     "data": {
      "image/png": "[encoded data removed]",
      "text/plain": [
       "<Figure size 864x504 with 1 Axes>"
      ]
     },
     "metadata": {},
     "output_type": "display_data"
    }
   ],
   "source": [
    "#Visulaization of Diptheria Column\n",
    "plt.figure(figsize=(12,7))\n",
    "plt.hist(df_reg['Diphtheria '],bins='sturges')\n",
    "plt.grid()\n",
    "plt.show()"
   ]
  },
  {
   "cell_type": "markdown",
   "id": "fc7468f5",
   "metadata": {},
   "source": [
    "### The histogram is left skewed, so we will be using median to replace the values."
   ]
  },
  {
   "cell_type": "code",
   "execution_count": 359,
   "id": "35042b74",
   "metadata": {},
   "outputs": [
    {
     "data": {
      "text/plain": [
       "0"
      ]
     },
     "execution_count": 359,
     "metadata": {},
     "output_type": "execute_result"
    }
   ],
   "source": [
    "#The histogram is left skewed, so we will be using median to replace the values.\n",
    "df_reg['Diphtheria '].replace(to_replace=np.NaN,value=df_reg['Diphtheria '].median(),inplace=True)\n",
    "df_reg['Diphtheria '].isna().sum()"
   ]
  },
  {
   "cell_type": "markdown",
   "id": "caa3a82c",
   "metadata": {},
   "source": [
    "### HIV/AIDS; There are no missing values in  HIV/AIDS, so no replcing is needed"
   ]
  },
  {
   "cell_type": "code",
   "execution_count": 360,
   "id": "847160d3",
   "metadata": {},
   "outputs": [
    {
     "data": {
      "text/plain": [
       "0"
      ]
     },
     "execution_count": 360,
     "metadata": {},
     "output_type": "execute_result"
    }
   ],
   "source": [
    "# HIV/AIDS; There are no missing values in  HIV/AIDS, so no replcing is needed\n",
    "df_reg[' HIV/AIDS'].isna().sum()"
   ]
  },
  {
   "cell_type": "code",
   "execution_count": 361,
   "id": "2a87bfb6",
   "metadata": {},
   "outputs": [
    {
     "data": {
      "text/plain": [
       "448"
      ]
     },
     "execution_count": 361,
     "metadata": {},
     "output_type": "execute_result"
    }
   ],
   "source": [
    "#Checking for missing values in GDP Column\n",
    "df_reg['GDP'].isna().sum()"
   ]
  },
  {
   "cell_type": "markdown",
   "id": "e2838e2f",
   "metadata": {},
   "source": [
    "### Visulization of in GDP Column"
   ]
  },
  {
   "cell_type": "code",
   "execution_count": 362,
   "id": "85bea5b9",
   "metadata": {},
   "outputs": [
    {
     "data": {
      "image/png": "[encoded data removed]",
      "text/plain": [
       "<Figure size 864x504 with 1 Axes>"
      ]
     },
     "metadata": {},
     "output_type": "display_data"
    }
   ],
   "source": [
    "#Visulization of in GDP Column\n",
    "plt.figure(figsize=(12,7))\n",
    "plt.hist(df_reg['GDP'],bins='sturges')\n",
    "plt.grid()\n",
    "plt.show()"
   ]
  },
  {
   "cell_type": "markdown",
   "id": "3e3eef25",
   "metadata": {},
   "source": [
    "### The graph is right skewed, so we use median to replce the null values"
   ]
  },
  {
   "cell_type": "code",
   "execution_count": 363,
   "id": "7421964f",
   "metadata": {},
   "outputs": [
    {
     "data": {
      "text/plain": [
       "0"
      ]
     },
     "execution_count": 363,
     "metadata": {},
     "output_type": "execute_result"
    }
   ],
   "source": [
    "#The graph is right skewed, so we use median to replce the null values\n",
    "df_reg['GDP'].replace(to_replace=np.NaN,value=df_reg['GDP'].median(),inplace=True)\n",
    "df_reg['GDP'].isna().sum()"
   ]
  },
  {
   "cell_type": "markdown",
   "id": "e06cb365",
   "metadata": {},
   "source": [
    "### Checking for missing poulation column"
   ]
  },
  {
   "cell_type": "code",
   "execution_count": 364,
   "id": "44cab6e7",
   "metadata": {},
   "outputs": [
    {
     "data": {
      "text/plain": [
       "652"
      ]
     },
     "execution_count": 364,
     "metadata": {},
     "output_type": "execute_result"
    }
   ],
   "source": [
    "# Chcking for missing poulation column\n",
    "df_reg['Population'].isna().sum()"
   ]
  },
  {
   "cell_type": "markdown",
   "id": "ebecc924",
   "metadata": {},
   "source": [
    "### Visualization of poulation column"
   ]
  },
  {
   "cell_type": "code",
   "execution_count": 365,
   "id": "cbdae5fd",
   "metadata": {},
   "outputs": [
    {
     "data": {
      "image/png": "[encoded data removed]",
      "text/plain": [
       "<Figure size 864x504 with 1 Axes>"
      ]
     },
     "metadata": {},
     "output_type": "display_data"
    }
   ],
   "source": [
    "#Visualization of poulation column\n",
    "plt.figure(figsize=(12,7))\n",
    "plt.hist(df_reg['Population'],bins='sturges')\n",
    "plt.grid()\n",
    "plt.show()"
   ]
  },
  {
   "cell_type": "markdown",
   "id": "3d3d977c",
   "metadata": {},
   "source": [
    "### The graph is right skewed , so we use median to replace the missing values"
   ]
  },
  {
   "cell_type": "code",
   "execution_count": 366,
   "id": "185c525f",
   "metadata": {},
   "outputs": [
    {
     "data": {
      "text/plain": [
       "0"
      ]
     },
     "execution_count": 366,
     "metadata": {},
     "output_type": "execute_result"
    }
   ],
   "source": [
    "#The graph is right skewed , so we use median to replace the missing values\n",
    "df_reg['Population'].replace(to_replace=np.NaN,value=df_reg['Population'].median(),inplace=True)\n",
    "df_reg['Population'].isna().sum()"
   ]
  },
  {
   "cell_type": "markdown",
   "id": "063d8234",
   "metadata": {},
   "source": [
    "### Checking for missing values in 'thinness  1-19 years' column"
   ]
  },
  {
   "cell_type": "code",
   "execution_count": 367,
   "id": "33145438",
   "metadata": {},
   "outputs": [
    {
     "data": {
      "text/plain": [
       "34"
      ]
     },
     "execution_count": 367,
     "metadata": {},
     "output_type": "execute_result"
    }
   ],
   "source": [
    "# Chcking for missing values in 'thinness  1-19 years' column\n",
    "df_reg[' thinness  1-19 years'].isna().sum()"
   ]
  },
  {
   "cell_type": "markdown",
   "id": "084bfd49",
   "metadata": {},
   "source": [
    "### Visulaization of 'thinness  1-19 years' column"
   ]
  },
  {
   "cell_type": "code",
   "execution_count": 368,
   "id": "29057af7",
   "metadata": {},
   "outputs": [
    {
     "data": {
      "image/png": "[encoded data removed]",
      "text/plain": [
       "<Figure size 864x504 with 1 Axes>"
      ]
     },
     "metadata": {},
     "output_type": "display_data"
    }
   ],
   "source": [
    "#Visulaization of 'thinness  1-19 years' column\n",
    "plt.figure(figsize=(12,7))\n",
    "plt.hist(df_reg[' thinness  1-19 years'],bins='sturges')\n",
    "plt.grid()\n",
    "plt.show()"
   ]
  },
  {
   "cell_type": "markdown",
   "id": "850a26ed",
   "metadata": {},
   "source": [
    "### data is right skewed , so we are replcing misiing values with median"
   ]
  },
  {
   "cell_type": "code",
   "execution_count": 369,
   "id": "a9abdff2",
   "metadata": {},
   "outputs": [
    {
     "data": {
      "text/plain": [
       "0"
      ]
     },
     "execution_count": 369,
     "metadata": {},
     "output_type": "execute_result"
    }
   ],
   "source": [
    "#data is right skewed , so we are replcing misiing values with median\n",
    "df_reg[' thinness  1-19 years'].replace(to_replace=np.NaN,value=df_reg[' thinness  1-19 years'].median(),inplace=True)\n",
    "df_reg[' thinness  1-19 years'].isna().sum()"
   ]
  },
  {
   "cell_type": "markdown",
   "id": "b2e20e09",
   "metadata": {},
   "source": [
    "### Checking for missing values in ' thinness 5-9 years' column"
   ]
  },
  {
   "cell_type": "code",
   "execution_count": 370,
   "id": "21ac611f",
   "metadata": {},
   "outputs": [
    {
     "data": {
      "text/plain": [
       "34"
      ]
     },
     "execution_count": 370,
     "metadata": {},
     "output_type": "execute_result"
    }
   ],
   "source": [
    "# Chcking for missing values in ' thinness 5-9 years' column\n",
    "df_reg[' thinness 5-9 years'].isna().sum()"
   ]
  },
  {
   "cell_type": "markdown",
   "id": "04c41e27",
   "metadata": {},
   "source": [
    "### Visulization of ' thinness 5-9 years' column"
   ]
  },
  {
   "cell_type": "code",
   "execution_count": 371,
   "id": "fa82440a",
   "metadata": {},
   "outputs": [
    {
     "data": {
      "image/png": "[encoded data removed]",
      "text/plain": [
       "<Figure size 864x504 with 1 Axes>"
      ]
     },
     "metadata": {},
     "output_type": "display_data"
    }
   ],
   "source": [
    "#Visulization of ' thinness 5-9 years' column\n",
    "plt.figure(figsize=(12,7))\n",
    "plt.hist(df_reg[' thinness 5-9 years'],bins='sturges')\n",
    "plt.grid()\n",
    "plt.show()"
   ]
  },
  {
   "cell_type": "markdown",
   "id": "98421540",
   "metadata": {},
   "source": [
    "### Data is right skewed, so we are replacing missing values with median"
   ]
  },
  {
   "cell_type": "code",
   "execution_count": 372,
   "id": "25e78ff0",
   "metadata": {},
   "outputs": [
    {
     "data": {
      "text/plain": [
       "0"
      ]
     },
     "execution_count": 372,
     "metadata": {},
     "output_type": "execute_result"
    }
   ],
   "source": [
    "#Data is right skewed, so we are replacing missing values with median\n",
    "df_reg[' thinness 5-9 years'].replace(to_replace=np.NaN,value=df_reg[' thinness  1-19 years'].median(),inplace=True)\n",
    "df_reg[' thinness 5-9 years'].isna().sum()"
   ]
  },
  {
   "cell_type": "markdown",
   "id": "b0d037a3",
   "metadata": {},
   "source": [
    "### Checking for missing values Income composition of resources Column"
   ]
  },
  {
   "cell_type": "code",
   "execution_count": 373,
   "id": "b357263f",
   "metadata": {},
   "outputs": [
    {
     "data": {
      "text/plain": [
       "167"
      ]
     },
     "execution_count": 373,
     "metadata": {},
     "output_type": "execute_result"
    }
   ],
   "source": [
    "#Checking for missing values Income composition of resources Column\n",
    "df_reg['Income composition of resources'].isna().sum()"
   ]
  },
  {
   "cell_type": "markdown",
   "id": "90538415",
   "metadata": {},
   "source": [
    "### Visualization of Income composition of resources Column"
   ]
  },
  {
   "cell_type": "code",
   "execution_count": 374,
   "id": "7eed465e",
   "metadata": {},
   "outputs": [
    {
     "data": {
      "image/png": "[encoded data removed]",
      "text/plain": [
       "<Figure size 864x504 with 1 Axes>"
      ]
     },
     "metadata": {},
     "output_type": "display_data"
    }
   ],
   "source": [
    "#Visualization of Income composition of resources Column\n",
    "plt.figure(figsize=(12,7))\n",
    "plt.hist(df_reg['Income composition of resources'],bins='sturges')\n",
    "plt.grid()\n",
    "plt.show()"
   ]
  },
  {
   "cell_type": "markdown",
   "id": "eaf4e1a2",
   "metadata": {},
   "source": [
    "### Histogram is left skewed, so we are replcing missing values with median values"
   ]
  },
  {
   "cell_type": "code",
   "execution_count": 375,
   "id": "ffb997a2",
   "metadata": {},
   "outputs": [
    {
     "data": {
      "text/plain": [
       "0"
      ]
     },
     "execution_count": 375,
     "metadata": {},
     "output_type": "execute_result"
    }
   ],
   "source": [
    "#Histogram is left skewed, so we are replcing missing values with median values\n",
    "df_reg['Income composition of resources'].replace(to_replace=np.NaN,value=df_reg['Income composition of resources'].median(),inplace=True)\n",
    "df_reg['Income composition of resources'].isna().sum()"
   ]
  },
  {
   "cell_type": "markdown",
   "id": "eb890718",
   "metadata": {},
   "source": [
    "### Checking for missing values in Schooling Column"
   ]
  },
  {
   "cell_type": "code",
   "execution_count": 376,
   "id": "46993064",
   "metadata": {},
   "outputs": [
    {
     "data": {
      "text/plain": [
       "163"
      ]
     },
     "execution_count": 376,
     "metadata": {},
     "output_type": "execute_result"
    }
   ],
   "source": [
    "#Checking for missing values in Schooling Column\n",
    "df_reg['Schooling'].isna().sum()"
   ]
  },
  {
   "cell_type": "markdown",
   "id": "a85be8ea",
   "metadata": {},
   "source": [
    "### Visualization of Schooling Column"
   ]
  },
  {
   "cell_type": "code",
   "execution_count": 377,
   "id": "8c3a2bd6",
   "metadata": {},
   "outputs": [
    {
     "data": {
      "image/png": "[encoded data removed]",
      "text/plain": [
       "<Figure size 864x504 with 1 Axes>"
      ]
     },
     "metadata": {},
     "output_type": "display_data"
    }
   ],
   "source": [
    "#Visualization of Schooling Column\n",
    "plt.figure(figsize=(12,7))\n",
    "plt.hist(df_reg['Schooling'],bins='sturges')\n",
    "plt.grid()\n",
    "plt.show()"
   ]
  },
  {
   "cell_type": "markdown",
   "id": "81c82c8d",
   "metadata": {},
   "source": [
    "### Slightly skewed and since mean and median are nearly same we are using median to replace the missing values with median"
   ]
  },
  {
   "cell_type": "code",
   "execution_count": 378,
   "id": "555054f1",
   "metadata": {},
   "outputs": [
    {
     "data": {
      "text/plain": [
       "0"
      ]
     },
     "execution_count": 378,
     "metadata": {},
     "output_type": "execute_result"
    }
   ],
   "source": [
    "#Slightly skewed and since mean and median are nearly same we are using median to replace the missing values with median\n",
    "df_reg['Schooling'].replace(to_replace=np.NaN,value=df_reg['Schooling'].median(),inplace=True)\n",
    "df_reg['Schooling'].isna().sum()"
   ]
  },
  {
   "cell_type": "markdown",
   "id": "1214f670",
   "metadata": {},
   "source": [
    "### Checking for missing values after making all the required modifications; We see that the rows which have Life Expectancy that have Adult Mortality is blank, so we drop those 10 rows."
   ]
  },
  {
   "cell_type": "code",
   "execution_count": 379,
   "id": "996d2bd2",
   "metadata": {},
   "outputs": [
    {
     "data": {
      "text/plain": [
       "Country                             0\n",
       "Year                                0\n",
       "Status                              0\n",
       "Life expectancy                    10\n",
       "Adult Mortality                    10\n",
       "infant deaths                       0\n",
       "Alcohol                             0\n",
       "percentage expenditure              0\n",
       "Hepatitis B                         0\n",
       "Measles                             0\n",
       " BMI                                0\n",
       "under-five deaths                   0\n",
       "Polio                               0\n",
       "Total expenditure                   0\n",
       "Diphtheria                          0\n",
       " HIV/AIDS                           0\n",
       "GDP                                 0\n",
       "Population                          0\n",
       " thinness  1-19 years               0\n",
       " thinness 5-9 years                 0\n",
       "Income composition of resources     0\n",
       "Schooling                           0\n",
       "dtype: int64"
      ]
     },
     "execution_count": 379,
     "metadata": {},
     "output_type": "execute_result"
    }
   ],
   "source": [
    "#Checking for missing values after making all the required modifications; We see that the rows which have Life Expectancy that have Adult Mortality is blank, so we drop those 10 rows.\n",
    "df_reg.isna().sum()"
   ]
  },
  {
   "cell_type": "markdown",
   "id": "daf67a2e",
   "metadata": {},
   "source": [
    "### Dropping the rows"
   ]
  },
  {
   "cell_type": "code",
   "execution_count": 380,
   "id": "3904d812",
   "metadata": {},
   "outputs": [],
   "source": [
    "#Dropping the rows\n",
    "df_reg=df_reg.dropna()"
   ]
  },
  {
   "cell_type": "code",
   "execution_count": 381,
   "id": "c5d578c8",
   "metadata": {},
   "outputs": [
    {
     "data": {
      "text/plain": [
       "Country                            0\n",
       "Year                               0\n",
       "Status                             0\n",
       "Life expectancy                    0\n",
       "Adult Mortality                    0\n",
       "infant deaths                      0\n",
       "Alcohol                            0\n",
       "percentage expenditure             0\n",
       "Hepatitis B                        0\n",
       "Measles                            0\n",
       " BMI                               0\n",
       "under-five deaths                  0\n",
       "Polio                              0\n",
       "Total expenditure                  0\n",
       "Diphtheria                         0\n",
       " HIV/AIDS                          0\n",
       "GDP                                0\n",
       "Population                         0\n",
       " thinness  1-19 years              0\n",
       " thinness 5-9 years                0\n",
       "Income composition of resources    0\n",
       "Schooling                          0\n",
       "dtype: int64"
      ]
     },
     "execution_count": 381,
     "metadata": {},
     "output_type": "execute_result"
    }
   ],
   "source": [
    "df_reg.isna().sum()"
   ]
  },
  {
   "cell_type": "markdown",
   "id": "5134f3cc",
   "metadata": {},
   "source": [
    "### We use one hot encoding, for Country "
   ]
  },
  {
   "cell_type": "code",
   "execution_count": 382,
   "id": "7debec99",
   "metadata": {},
   "outputs": [
    {
     "name": "stdout",
     "output_type": "stream",
     "text": [
      "<class 'pandas.core.frame.DataFrame'>\n",
      "Int64Index: 2928 entries, 0 to 2937\n",
      "Data columns (total 28 columns):\n",
      " #   Column                              Non-Null Count  Dtype  \n",
      "---  ------                              --------------  -----  \n",
      " 0   Year                                2928 non-null   int64  \n",
      " 1   Status                              2928 non-null   int32  \n",
      " 2   Life expectancy                     2928 non-null   float64\n",
      " 3   Adult Mortality                     2928 non-null   float64\n",
      " 4   infant deaths                       2928 non-null   int64  \n",
      " 5   Alcohol                             2928 non-null   float64\n",
      " 6   percentage expenditure              2928 non-null   float64\n",
      " 7   Hepatitis B                         2928 non-null   float64\n",
      " 8   Measles                             2928 non-null   int64  \n",
      " 9    BMI                                2928 non-null   float64\n",
      " 10  under-five deaths                   2928 non-null   int64  \n",
      " 11  Polio                               2928 non-null   float64\n",
      " 12  Total expenditure                   2928 non-null   float64\n",
      " 13  Diphtheria                          2928 non-null   float64\n",
      " 14   HIV/AIDS                           2928 non-null   float64\n",
      " 15  GDP                                 2928 non-null   float64\n",
      " 16  Population                          2928 non-null   float64\n",
      " 17   thinness  1-19 years               2928 non-null   float64\n",
      " 18   thinness 5-9 years                 2928 non-null   float64\n",
      " 19  Income composition of resources     2928 non-null   float64\n",
      " 20  Schooling                           2928 non-null   float64\n",
      " 21  Country_East Asia & Pacific         2928 non-null   uint8  \n",
      " 22  Country_Europe & Central Asia       2928 non-null   uint8  \n",
      " 23  Country_Latin America & Caribbean   2928 non-null   uint8  \n",
      " 24  Country_Middle East & North Africa  2928 non-null   uint8  \n",
      " 25  Country_North America               2928 non-null   uint8  \n",
      " 26  Country_South Asia                  2928 non-null   uint8  \n",
      " 27  Country_Sub-Saharan Africa          2928 non-null   uint8  \n",
      "dtypes: float64(16), int32(1), int64(4), uint8(7)\n",
      "memory usage: 511.8 KB\n"
     ]
    }
   ],
   "source": [
    "#We use one hot encoding, for Country \n",
    "df_reg['Country'] = df_reg['Country'].astype(object)\n",
    "cols = pd.get_dummies(df_reg['Country'], prefix= 'Country')\n",
    "df_reg[cols.columns] = cols\n",
    "df_reg.drop('Country', axis = 1, inplace = True)\n",
    "df_reg.info()"
   ]
  },
  {
   "cell_type": "code",
   "execution_count": 383,
   "id": "a5ef8ea1",
   "metadata": {},
   "outputs": [
    {
     "data": {
      "text/plain": [
       "(2928, 28)"
      ]
     },
     "execution_count": 383,
     "metadata": {},
     "output_type": "execute_result"
    }
   ],
   "source": [
    "df_reg.shape"
   ]
  },
  {
   "cell_type": "markdown",
   "id": "949448e8",
   "metadata": {},
   "source": [
    "#  K neighbours regressors"
   ]
  },
  {
   "cell_type": "markdown",
   "id": "29022e3d",
   "metadata": {},
   "source": [
    "# Standard Scaler\n",
    "$$x_{new} = \\frac{x - mean}{std}$$\n"
   ]
  },
  {
   "cell_type": "markdown",
   "id": "1e63844d",
   "metadata": {},
   "source": [
    "### We take the 'STATUS' as the target column and est all as the feature columns"
   ]
  },
  {
   "cell_type": "code",
   "execution_count": 384,
   "id": "bc70de2b",
   "metadata": {},
   "outputs": [],
   "source": [
    "#We take the 'STATUS' as the target column and est all as the feature columns\n",
    "X = df_reg.drop('Life expectancy ', axis = 1)\n",
    "y = df_reg['Life expectancy ']\n",
    "\n",
    "# splitting the data into train and test\n",
    "X_train, X_test, y_train, y_test = train_test_split(X,y, random_state = 0)\n",
    "\n",
    "#using min max scaler we scale the values and then transform the values\n",
    "scaler = MinMaxScaler()\n",
    "X_train = scaler.fit_transform(X_train)\n",
    "X_test = scaler.transform(X_test)"
   ]
  },
  {
   "cell_type": "markdown",
   "id": "a7bc3368",
   "metadata": {},
   "source": [
    "### defining the parameters"
   ]
  },
  {
   "cell_type": "code",
   "execution_count": 385,
   "id": "0cc0af98",
   "metadata": {},
   "outputs": [],
   "source": [
    "# defining the parameters\n",
    "\n",
    "param_dist={ \n",
    "    'weights': ['uniform'],\n",
    "    'n_neighbors': [1,2,3,4,5,6,7,8,9,10,11,12],\n",
    "    \"metric\":[\"minkowski\", \"manhattan\",\"euclidean\",\"cosine\"]\n",
    "}"
   ]
  },
  {
   "cell_type": "markdown",
   "id": "6be143c1",
   "metadata": {},
   "source": [
    "### Grid Search"
   ]
  },
  {
   "cell_type": "code",
   "execution_count": 386,
   "id": "6554a969",
   "metadata": {},
   "outputs": [],
   "source": [
    "# Grid Search\n",
    "from sklearn.model_selection import GridSearchCV\n",
    "grid=GridSearchCV(knn_reg, param_grid=param_dist, cv=10, n_jobs=-1)\n"
   ]
  },
  {
   "cell_type": "markdown",
   "id": "bdf94fe3",
   "metadata": {},
   "source": [
    "### fitting the values"
   ]
  },
  {
   "cell_type": "code",
   "execution_count": 387,
   "id": "af00c0ee",
   "metadata": {},
   "outputs": [
    {
     "data": {
      "text/plain": [
       "GridSearchCV(cv=10, estimator=KNeighborsRegressor(n_neighbors=2), n_jobs=-1,\n",
       "             param_grid={'metric': ['minkowski', 'manhattan', 'euclidean',\n",
       "                                    'cosine'],\n",
       "                         'n_neighbors': [1, 2, 3, 4, 5, 6, 7, 8, 9, 10, 11, 12],\n",
       "                         'weights': ['uniform']})"
      ]
     },
     "execution_count": 387,
     "metadata": {},
     "output_type": "execute_result"
    }
   ],
   "source": [
    "# fitting the values\n",
    "grid.fit(X_train,y_train)"
   ]
  },
  {
   "cell_type": "markdown",
   "id": "f5ac266a",
   "metadata": {},
   "source": [
    "### finding the best estimator"
   ]
  },
  {
   "cell_type": "code",
   "execution_count": 388,
   "id": "4d727d66",
   "metadata": {},
   "outputs": [
    {
     "data": {
      "text/plain": [
       "KNeighborsRegressor(metric='manhattan', n_neighbors=4)"
      ]
     },
     "execution_count": 388,
     "metadata": {},
     "output_type": "execute_result"
    }
   ],
   "source": [
    "#finding the best estimator\n",
    "grid.best_estimator_"
   ]
  },
  {
   "cell_type": "markdown",
   "id": "e6095f93",
   "metadata": {},
   "source": [
    "### hyper parameter tunning"
   ]
  },
  {
   "cell_type": "code",
   "execution_count": 389,
   "id": "89cc5461",
   "metadata": {},
   "outputs": [
    {
     "data": {
      "text/plain": [
       "{'metric': 'manhattan', 'n_neighbors': 4, 'weights': 'uniform'}"
      ]
     },
     "execution_count": 389,
     "metadata": {},
     "output_type": "execute_result"
    }
   ],
   "source": [
    "#hyper parameter tunning\n",
    "grid.best_params_"
   ]
  },
  {
   "cell_type": "markdown",
   "id": "9a3da4f6",
   "metadata": {},
   "source": [
    "### best score"
   ]
  },
  {
   "cell_type": "code",
   "execution_count": 390,
   "id": "23c18165",
   "metadata": {},
   "outputs": [
    {
     "data": {
      "text/plain": [
       "0.9355885722717063"
      ]
     },
     "execution_count": 390,
     "metadata": {},
     "output_type": "execute_result"
    }
   ],
   "source": [
    "grid.best_score_"
   ]
  },
  {
   "cell_type": "markdown",
   "id": "79292e2a",
   "metadata": {},
   "source": [
    "### now fitting the model with best parameters"
   ]
  },
  {
   "cell_type": "code",
   "execution_count": 391,
   "id": "2dc649c7",
   "metadata": {},
   "outputs": [
    {
     "name": "stdout",
     "output_type": "stream",
     "text": [
      "Train score: 0.9665\n",
      "Test score: 0.9306\n"
     ]
    }
   ],
   "source": [
    "# now fitting the model with best parameters\n",
    "knn = KNeighborsRegressor(metric='manhattan', n_neighbors=4, weights='uniform')\n",
    "knn.fit(X_train,y_train)\n",
    "print('Train score: {:.4f}'.format(knn.score(X_train, y_train)))\n",
    "print('Test score: {:.4f}'.format(knn.score(X_test, y_test)))"
   ]
  },
  {
   "cell_type": "markdown",
   "id": "b1d3a5a1",
   "metadata": {},
   "source": [
    "### visualising it using graph"
   ]
  },
  {
   "cell_type": "code",
   "execution_count": 392,
   "id": "7f788ce9",
   "metadata": {},
   "outputs": [
    {
     "data": {
      "text/plain": [
       "Text(0, 0.5, 'MSE')"
      ]
     },
     "execution_count": 392,
     "metadata": {},
     "output_type": "execute_result"
    },
    {
     "data": {
      "image/png": "[encoded data removed]",
      "text/plain": [
       "<Figure size 1440x360 with 1 Axes>"
      ]
     },
     "metadata": {
      "needs_background": "light"
     },
     "output_type": "display_data"
    }
   ],
   "source": [
    "# visualising it using graph\n",
    "%matplotlib inline\n",
    "train_score_array = []\n",
    "test_score_array = []\n",
    "\n",
    "for k in range(1,10):\n",
    "    knn_reg = KNeighborsRegressor(k)\n",
    "    knn_reg.fit(X_train, y_train)\n",
    "    train_score_array.append(knn_reg.score(X_train, y_train))\n",
    "    test_score_array.append(knn_reg.score(X_test, y_test))\n",
    "\n",
    "x_axis = range(1,10)\n",
    "plt.subplots(figsize = (20,5))\n",
    "plt.plot(x_axis, train_score_array, c = 'g', label = 'Train Score')\n",
    "plt.plot(x_axis, test_score_array, c = 'b', label = 'Test Score')\n",
    "plt.legend()\n",
    "plt.xlabel('n_neighbors')\n",
    "plt.ylabel('MSE')"
   ]
  },
  {
   "cell_type": "code",
   "execution_count": 393,
   "id": "be5a3e52",
   "metadata": {},
   "outputs": [
    {
     "data": {
      "text/plain": [
       "(array([], dtype=int64),)"
      ]
     },
     "execution_count": 393,
     "metadata": {},
     "output_type": "execute_result"
    }
   ],
   "source": [
    "np.where(X.columns == 'Life expectancy ')"
   ]
  },
  {
   "cell_type": "code",
   "execution_count": 470,
   "id": "716a7693",
   "metadata": {},
   "outputs": [
    {
     "data": {
      "text/plain": [
       "Text(0, 0.5, 'Life expectancy ')"
      ]
     },
     "execution_count": 470,
     "metadata": {},
     "output_type": "execute_result"
    },
    {
     "data": {
      "image/png": "[encoded data removed]",
      "text/plain": [
       "<Figure size 1440x360 with 1 Axes>"
      ]
     },
     "metadata": {},
     "output_type": "display_data"
    }
   ],
   "source": [
    "X_b = X_train[:50,6].reshape(-1,1)\n",
    "y_b = y_train[:50]\n",
    "\n",
    "knn_reg = KNeighborsRegressor(2)\n",
    "knn_reg.fit(X_b, y_b)\n",
    "\n",
    "X_new=np.linspace(X_b.min(), X_b.max(), 50).reshape(50, 1)\n",
    "y_predict = knn_reg.predict(X_new)\n",
    "\n",
    "plt.subplots(figsize = (20,5))\n",
    "plt.plot(X_new, y_predict, c = 'r')\n",
    "plt.scatter(X_b, y_b)\n",
    "plt.ylabel('Life expectancy ')"
   ]
  },
  {
   "cell_type": "markdown",
   "id": "09e84135",
   "metadata": {},
   "source": [
    "# Linear regression using the Normal Equation"
   ]
  },
  {
   "cell_type": "markdown",
   "id": "3e613ad5",
   "metadata": {},
   "source": [
    "### splitting the data into train and test and transforming using min max scalar"
   ]
  },
  {
   "cell_type": "code",
   "execution_count": 395,
   "id": "40364d85",
   "metadata": {},
   "outputs": [],
   "source": [
    "# splitting the data into train and test and transforming using min max scalar\n",
    "\n",
    "X_train, X_test, y_train, y_test = train_test_split(X,y, random_state = 0)\n",
    "\n",
    "scaler = MinMaxScaler()\n",
    "X_train = scaler.fit_transform(X_train)\n",
    "X_test = scaler.transform(X_test)"
   ]
  },
  {
   "cell_type": "markdown",
   "id": "6fdefd45",
   "metadata": {},
   "source": [
    "### fitting the model and finding the test and training score"
   ]
  },
  {
   "cell_type": "code",
   "execution_count": 396,
   "id": "79f727e4",
   "metadata": {},
   "outputs": [
    {
     "name": "stdout",
     "output_type": "stream",
     "text": [
      "Train score: 0.8524\n",
      "Test score: 0.8521\n"
     ]
    }
   ],
   "source": [
    "# fitting the model and finding the test and training score\n",
    "\n",
    "lreg = LinearRegression()\n",
    "lreg.fit(X_train, y_train)\n",
    "\n",
    "print('Train score: {:.4f}'.format(lreg.score(X_train, y_train)))\n",
    "print('Test score: {:.4f}'.format(lreg.score(X_test, y_test)))"
   ]
  },
  {
   "cell_type": "markdown",
   "id": "0db4e3b7",
   "metadata": {},
   "source": [
    "# r2-score\n",
    "$$r2 = 1 - \\frac{SS_{res}}{SS_{total}}$$\n",
    "$$SS_{res} = \\sum_i (y_i - y_{mean})^2$$\n",
    "$$SS_{total} = \\sum_i (y_i - \\hat{y}_i)^2$$\n",
    "where $y_{mean}$ is the average of all target values, and $\\hat{y}_i$ is the prediction of instance $i$. $y_i$ is the actual target value of instance $i$. "
   ]
  },
  {
   "cell_type": "markdown",
   "id": "3d9f3c9a",
   "metadata": {},
   "source": [
    "### plotting r square in the graph below"
   ]
  },
  {
   "cell_type": "code",
   "execution_count": 397,
   "id": "4a96423d",
   "metadata": {},
   "outputs": [
    {
     "data": {
      "text/plain": [
       "Text(0.5, 0, 'RM')"
      ]
     },
     "execution_count": 397,
     "metadata": {},
     "output_type": "execute_result"
    },
    {
     "data": {
      "image/png": "[encoded data removed]",
      "text/plain": [
       "<Figure size 1440x360 with 1 Axes>"
      ]
     },
     "metadata": {
      "needs_background": "light"
     },
     "output_type": "display_data"
    }
   ],
   "source": [
    "# plotting r square in the graph below\n",
    "\n",
    "%matplotlib inline\n",
    "import matplotlib.pyplot as plt\n",
    "\n",
    "X_train_rm = X_train[:,5].reshape(-1,1)\n",
    "lreg.fit(X_train_rm, y_train)\n",
    "y_predict = lreg.predict(X_train_rm)\n",
    "\n",
    "plt.subplots(figsize = (20,5))\n",
    "plt.plot(X_train_rm, y_predict, c = 'r')\n",
    "plt.scatter(X_train_rm,y_train)\n",
    "plt.xlabel('RM')"
   ]
  },
  {
   "cell_type": "markdown",
   "id": "c6a5d23d",
   "metadata": {},
   "source": [
    "# Ridge"
   ]
  },
  {
   "cell_type": "markdown",
   "id": "6b1e9b10",
   "metadata": {},
   "source": [
    "### splitting the data into train and test and transforming using min max scalar"
   ]
  },
  {
   "cell_type": "code",
   "execution_count": 398,
   "id": "e3a8dd69",
   "metadata": {},
   "outputs": [],
   "source": [
    "# splitting the data into train and test and transforming using min max scalar\n",
    "\n",
    "X_train_org, X_test_org, y_train, y_test = train_test_split(X,y, random_state = 0)\n",
    "\n",
    "scaler = MinMaxScaler()\n",
    "\n",
    "X_train = scaler.fit_transform(X_train_org)\n",
    "X_test = scaler.transform(X_test_org)"
   ]
  },
  {
   "cell_type": "code",
   "execution_count": 399,
   "id": "d3cdd729",
   "metadata": {},
   "outputs": [
    {
     "data": {
      "text/plain": [
       "Ridge()"
      ]
     },
     "execution_count": 399,
     "metadata": {},
     "output_type": "execute_result"
    }
   ],
   "source": [
    "# defining the model and fitting it\n",
    "ridge = Ridge()\n",
    "ridge.fit(X_train,y_train)"
   ]
  },
  {
   "cell_type": "markdown",
   "id": "1df77461",
   "metadata": {},
   "source": [
    "### putting the parameters for GridSearchCV"
   ]
  },
  {
   "cell_type": "code",
   "execution_count": 400,
   "id": "7c517efc",
   "metadata": {},
   "outputs": [],
   "source": [
    "# putting the parameters for GridSearchCV\n",
    "param_dist={\n",
    "    \"solver\":[\"svd\",\"cholesky\",\"lsqr\",\"sag\",\"saga\",\"lbfgs\"],\n",
    "    \"alpha\":[0.01, 0.1, 1, 10, 100]\n",
    "}"
   ]
  },
  {
   "cell_type": "code",
   "execution_count": 401,
   "id": "71110807",
   "metadata": {},
   "outputs": [],
   "source": [
    "grid=GridSearchCV(ridge, param_grid=param_dist, cv=5, n_jobs=-1)"
   ]
  },
  {
   "cell_type": "code",
   "execution_count": 402,
   "id": "eee567f1",
   "metadata": {},
   "outputs": [
    {
     "data": {
      "text/plain": [
       "GridSearchCV(cv=5, estimator=Ridge(), n_jobs=-1,\n",
       "             param_grid={'alpha': [0.01, 0.1, 1, 10, 100],\n",
       "                         'solver': ['svd', 'cholesky', 'lsqr', 'sag', 'saga',\n",
       "                                    'lbfgs']})"
      ]
     },
     "execution_count": 402,
     "metadata": {},
     "output_type": "execute_result"
    }
   ],
   "source": [
    "import warnings\n",
    "warnings.filterwarnings('ignore')\n",
    "grid.fit(X_train,y_train)"
   ]
  },
  {
   "cell_type": "markdown",
   "id": "043649be",
   "metadata": {},
   "source": [
    "### best estimator using grid search"
   ]
  },
  {
   "cell_type": "code",
   "execution_count": 403,
   "id": "b8ad3340",
   "metadata": {},
   "outputs": [
    {
     "data": {
      "text/plain": [
       "Ridge(alpha=0.01, solver='svd')"
      ]
     },
     "execution_count": 403,
     "metadata": {},
     "output_type": "execute_result"
    }
   ],
   "source": [
    "# best estimator using grid search\n",
    "grid.best_estimator_"
   ]
  },
  {
   "cell_type": "markdown",
   "id": "f65c837b",
   "metadata": {},
   "source": [
    "### Taking the best score using grid method"
   ]
  },
  {
   "cell_type": "code",
   "execution_count": 404,
   "id": "575592d7",
   "metadata": {},
   "outputs": [
    {
     "data": {
      "text/plain": [
       "0.8464869366544219"
      ]
     },
     "execution_count": 404,
     "metadata": {},
     "output_type": "execute_result"
    }
   ],
   "source": [
    "#Taking the best score using grid method\n",
    "grid.best_score_"
   ]
  },
  {
   "cell_type": "markdown",
   "id": "a2eadc8c",
   "metadata": {},
   "source": [
    "### best paramaters"
   ]
  },
  {
   "cell_type": "code",
   "execution_count": 405,
   "id": "f9f582c9",
   "metadata": {},
   "outputs": [
    {
     "data": {
      "text/plain": [
       "{'alpha': 0.01, 'solver': 'svd'}"
      ]
     },
     "execution_count": 405,
     "metadata": {},
     "output_type": "execute_result"
    }
   ],
   "source": [
    "# best paramas\n",
    "grid.best_params_"
   ]
  },
  {
   "cell_type": "markdown",
   "id": "3d93e26a",
   "metadata": {},
   "source": [
    "### now fitting the model with best parameters"
   ]
  },
  {
   "cell_type": "code",
   "execution_count": 406,
   "id": "871cd487",
   "metadata": {},
   "outputs": [
    {
     "name": "stdout",
     "output_type": "stream",
     "text": [
      "Train score: 0.8523\n",
      "Test score: 0.8519\n"
     ]
    }
   ],
   "source": [
    "# now fitting the model with best parameters\n",
    "ridge = Ridge(alpha=0.01, solver='svd')\n",
    "ridge.fit(X_train,y_train)\n",
    "\n",
    "print('Train score: {:.4f}'.format(ridge.score(X_train, y_train)))\n",
    "print('Test score: {:.4f}'.format(ridge.score(X_test, y_test)))"
   ]
  },
  {
   "cell_type": "markdown",
   "id": "d0ef51e2",
   "metadata": {},
   "source": [
    "### visualising Train and Test split"
   ]
  },
  {
   "cell_type": "code",
   "execution_count": 407,
   "id": "23997f96",
   "metadata": {},
   "outputs": [],
   "source": [
    "\n",
    "train_score_list = []\n",
    "test_score_list = []\n",
    "\n",
    "for alpha in [0.01, 0.1, 1, 10, 100]: \n",
    "    ridge = Ridge(alpha)\n",
    "    ridge.fit(X_train,  y_train)\n",
    "    train_score_list.append(ridge.score(X_train, y_train))\n",
    "    test_score_list.append(ridge.score(X_test, y_test))"
   ]
  },
  {
   "cell_type": "code",
   "execution_count": 408,
   "id": "b97ceb96",
   "metadata": {},
   "outputs": [
    {
     "data": {
      "image/png": "[encoded data removed]",
      "text/plain": [
       "<Figure size 1440x360 with 1 Axes>"
      ]
     },
     "metadata": {
      "needs_background": "light"
     },
     "output_type": "display_data"
    }
   ],
   "source": [
    "%matplotlib inline\n",
    "import matplotlib.pyplot as plt\n",
    "\n",
    "x_range = [0.01, 0.1, 1, 10, 100]\n",
    "\n",
    "plt.subplots(figsize = (20,5))\n",
    "plt.plot(x_range, train_score_list, c = 'g', label = 'Train Score')\n",
    "plt.plot(x_range, test_score_list, c = 'b', label = 'Test Score')\n",
    "plt.xscale('log')\n",
    "plt.legend(loc = 3)\n",
    "plt.xlabel(r'$\\alpha$')\n",
    "plt.grid()"
   ]
  },
  {
   "cell_type": "code",
   "execution_count": 409,
   "id": "c441d503",
   "metadata": {},
   "outputs": [
    {
     "name": "stdout",
     "output_type": "stream",
     "text": [
      "[0.8522520944917519, 0.8510962158688606, 0.8503725738356513, 0.8453769769431495, 0.8019611403401906]\n",
      "[0.8519248684827772, 0.8506004305143753, 0.8500584584142317, 0.8461322632146718, 0.8041421245624016]\n"
     ]
    }
   ],
   "source": [
    "print(train_score_list)\n",
    "print(test_score_list)"
   ]
  },
  {
   "cell_type": "code",
   "execution_count": 410,
   "id": "0e582e9e",
   "metadata": {},
   "outputs": [
    {
     "name": "stdout",
     "output_type": "stream",
     "text": [
      "Train score: 0.8523\n",
      "Test score: 0.8519\n"
     ]
    }
   ],
   "source": [
    "ridge = Ridge(alpha = 0.01)\n",
    "ridge.fit(X_train,y_train)\n",
    "print('Train score: {:.4f}'.format(ridge.score(X_train,y_train)))\n",
    "print('Test score: {:.4f}'.format(ridge.score(X_test, y_test)))"
   ]
  },
  {
   "cell_type": "code",
   "execution_count": 411,
   "id": "6768cdb1",
   "metadata": {},
   "outputs": [
    {
     "data": {
      "text/plain": [
       "array([ 1.28769160e+00, -2.80987665e+00, -1.11874857e+01,  6.25812565e+01,\n",
       "        8.87853347e-01,  2.38170121e+00, -1.18540949e+00, -2.36798285e+00,\n",
       "        6.81906518e-01, -6.77414498e+01,  2.66922417e+00,  7.63039824e-01,\n",
       "        3.15972573e+00, -1.70997468e+01,  4.32961034e+00,  1.07377141e+00,\n",
       "       -1.38714022e+00, -7.95750601e-01,  3.88802134e+00,  1.10714199e+01,\n",
       "        1.63481787e-02, -2.85365939e-01,  1.35272393e+00,  8.75256103e-01,\n",
       "        2.60439290e+00,  8.18850622e-01, -5.38220579e+00])"
      ]
     },
     "execution_count": 411,
     "metadata": {},
     "output_type": "execute_result"
    }
   ],
   "source": [
    "ridge.coef_"
   ]
  },
  {
   "cell_type": "code",
   "execution_count": 412,
   "id": "5b2d45c7",
   "metadata": {},
   "outputs": [
    {
     "data": {
      "text/plain": [
       "61.51259806968311"
      ]
     },
     "execution_count": 412,
     "metadata": {},
     "output_type": "execute_result"
    }
   ],
   "source": [
    "ridge.intercept_"
   ]
  },
  {
   "cell_type": "code",
   "execution_count": 413,
   "id": "a4b38133",
   "metadata": {},
   "outputs": [
    {
     "data": {
      "image/png": "[encoded data removed]",
      "text/plain": [
       "<Figure size 1080x360 with 1 Axes>"
      ]
     },
     "metadata": {
      "needs_background": "light"
     },
     "output_type": "display_data"
    }
   ],
   "source": [
    "%matplotlib inline\n",
    "import numpy as np\n",
    "\n",
    "x_range1 = np.linspace(0.001, 1, 100).reshape(-1,1)\n",
    "x_range2 = np.linspace(1, 10000, 10000).reshape(-1,1)\n",
    "\n",
    "x_range = np.append(x_range1, x_range2)\n",
    "coeff = []\n",
    "\n",
    "for alpha in x_range: \n",
    "    ridge = Ridge(alpha)\n",
    "    ridge.fit(X_train,y_train)\n",
    "    coeff.append(ridge.coef_ )\n",
    "    \n",
    "coeff = np.array(coeff)\n",
    "\n",
    "plt.subplots(figsize = (15,5))\n",
    "for i in range(0,13):\n",
    "    plt.plot(x_range, coeff[:,i], label = X.columns[i])\n",
    "\n",
    "plt.axhline(y=0, xmin=0.001, xmax=9999, linewidth=1, c ='gray')\n",
    "plt.xlabel(r'$\\alpha$')\n",
    "plt.xscale('log')\n",
    "plt.legend(loc='upper center', bbox_to_anchor=(0.5, 1.5),\n",
    "          ncol=3, fancybox=True, shadow=True)\n",
    "plt.show()"
   ]
  },
  {
   "cell_type": "markdown",
   "id": "34acc056",
   "metadata": {},
   "source": [
    "# Lasso "
   ]
  },
  {
   "cell_type": "markdown",
   "id": "72e7593c",
   "metadata": {},
   "source": [
    "### splitting the data into train and test and transforming using min max scalar"
   ]
  },
  {
   "cell_type": "code",
   "execution_count": 414,
   "id": "1850679b",
   "metadata": {},
   "outputs": [],
   "source": [
    "# splitting the data into train and test and transforming using min max scalar\n",
    "\n",
    "X_train_org, X_test_org, y_train, y_test = train_test_split(X,y, random_state = 0)\n",
    "\n",
    "scaler = MinMaxScaler()\n",
    "\n",
    "\n",
    "X_train = scaler.fit_transform(X_train_org)\n",
    "X_test = scaler.transform(X_test_org)"
   ]
  },
  {
   "cell_type": "code",
   "execution_count": 415,
   "id": "8e9882a5",
   "metadata": {},
   "outputs": [
    {
     "data": {
      "text/plain": [
       "Lasso()"
      ]
     },
     "execution_count": 415,
     "metadata": {},
     "output_type": "execute_result"
    }
   ],
   "source": [
    "\n",
    "lasso = Lasso()\n",
    "lasso.fit(X_train,y_train)"
   ]
  },
  {
   "cell_type": "markdown",
   "id": "6cb9af99",
   "metadata": {},
   "source": [
    "### Using Grid Search and defining different parameters"
   ]
  },
  {
   "cell_type": "code",
   "execution_count": 416,
   "id": "61d2698d",
   "metadata": {},
   "outputs": [],
   "source": [
    "#Using Grid Search and defining different parameters\n",
    "param_dist={\n",
    "    \"alpha\":[0.01, 0.1, 1, 10, 100]\n",
    "}"
   ]
  },
  {
   "cell_type": "code",
   "execution_count": 417,
   "id": "84f5e3ef",
   "metadata": {},
   "outputs": [
    {
     "data": {
      "text/plain": [
       "GridSearchCV(cv=5, estimator=Lasso(), n_jobs=-1,\n",
       "             param_grid={'alpha': [0.01, 0.1, 1, 10, 100]})"
      ]
     },
     "execution_count": 417,
     "metadata": {},
     "output_type": "execute_result"
    }
   ],
   "source": [
    "grid=GridSearchCV(lasso, param_grid=param_dist, cv=5, n_jobs=-1)\n",
    "grid.fit(X_train,y_train)"
   ]
  },
  {
   "cell_type": "markdown",
   "id": "6e11d8a1",
   "metadata": {},
   "source": [
    "### finding the best estimator"
   ]
  },
  {
   "cell_type": "code",
   "execution_count": 418,
   "id": "fb052599",
   "metadata": {},
   "outputs": [
    {
     "data": {
      "text/plain": [
       "Lasso(alpha=0.01)"
      ]
     },
     "execution_count": 418,
     "metadata": {},
     "output_type": "execute_result"
    }
   ],
   "source": [
    "#finding the best estimator\n",
    "grid.best_estimator_"
   ]
  },
  {
   "cell_type": "markdown",
   "id": "7b520751",
   "metadata": {},
   "source": [
    "### Taking the best score using grid method"
   ]
  },
  {
   "cell_type": "code",
   "execution_count": 419,
   "id": "2b088bb4",
   "metadata": {},
   "outputs": [
    {
     "data": {
      "text/plain": [
       "0.8439416572701735"
      ]
     },
     "execution_count": 419,
     "metadata": {},
     "output_type": "execute_result"
    }
   ],
   "source": [
    "#Taking the best score using grid method\n",
    "grid.best_score_"
   ]
  },
  {
   "cell_type": "markdown",
   "id": "9c01e34b",
   "metadata": {},
   "source": [
    "### best paramaters"
   ]
  },
  {
   "cell_type": "code",
   "execution_count": 420,
   "id": "6e5b23ba",
   "metadata": {},
   "outputs": [
    {
     "data": {
      "text/plain": [
       "{'alpha': 0.01}"
      ]
     },
     "execution_count": 420,
     "metadata": {},
     "output_type": "execute_result"
    }
   ],
   "source": [
    "#best paramaters\n",
    "grid.best_params_"
   ]
  },
  {
   "cell_type": "markdown",
   "id": "f5fe63a9",
   "metadata": {},
   "source": [
    "### now fitting the model with best parameters"
   ]
  },
  {
   "cell_type": "code",
   "execution_count": 421,
   "id": "5b53e43d",
   "metadata": {},
   "outputs": [
    {
     "name": "stdout",
     "output_type": "stream",
     "text": [
      "Train score: 0.1199\n",
      "Test score: 0.1204\n"
     ]
    }
   ],
   "source": [
    "# now fitting the model with best parameters\n",
    "lasso = Lasso(alpha=0.01)\n",
    "lasso.fit(X_train,y_train)\n",
    "\n",
    "print('Train score: {:.4f}'.format(ridge.score(X_train, y_train)))\n",
    "print('Test score: {:.4f}'.format(ridge.score(X_test, y_test)))"
   ]
  },
  {
   "cell_type": "markdown",
   "id": "a8ceeaee",
   "metadata": {},
   "source": [
    "### visualising train and test scores on different range"
   ]
  },
  {
   "cell_type": "code",
   "execution_count": 422,
   "id": "f3e62114",
   "metadata": {},
   "outputs": [],
   "source": [
    "\n",
    "x_range = [0.01, 0.1, 1, 10, 100]\n",
    "train_score_list = []\n",
    "test_score_list = []\n",
    "\n",
    "for alpha in x_range: \n",
    "    lasso = Lasso(alpha)\n",
    "    lasso.fit(X_train,y_train)\n",
    "    train_score_list.append(lasso.score(X_train,y_train))\n",
    "    test_score_list.append(lasso.score(X_test, y_test))"
   ]
  },
  {
   "cell_type": "code",
   "execution_count": 423,
   "id": "6538b60d",
   "metadata": {},
   "outputs": [
    {
     "data": {
      "image/png": "[encoded data removed]",
      "text/plain": [
       "<Figure size 1440x360 with 1 Axes>"
      ]
     },
     "metadata": {
      "needs_background": "light"
     },
     "output_type": "display_data"
    }
   ],
   "source": [
    "%matplotlib inline\n",
    "plt.subplots(figsize = (20,5))\n",
    "plt.plot(x_range, train_score_list, c = 'g', label = 'Train Score')\n",
    "plt.plot(x_range, test_score_list, c = 'b', label = 'Test Score')\n",
    "plt.xscale('log')\n",
    "plt.legend(loc = 3)\n",
    "plt.xlabel(r'$\\alpha$')\n",
    "plt.grid()"
   ]
  },
  {
   "cell_type": "code",
   "execution_count": 424,
   "id": "3d3e5501",
   "metadata": {},
   "outputs": [
    {
     "data": {
      "image/png": "[encoded data removed]",
      "text/plain": [
       "<Figure size 1080x360 with 1 Axes>"
      ]
     },
     "metadata": {
      "needs_background": "light"
     },
     "output_type": "display_data"
    }
   ],
   "source": [
    "%matplotlib inline\n",
    "\n",
    "x_range1 = np.linspace(0.001, 1, 1000).reshape(-1,1)\n",
    "x_range2 = np.linspace(1, 1000, 1000).reshape(-1,1)\n",
    "\n",
    "x_range = np.append(x_range1, x_range2)\n",
    "coeff = []\n",
    "\n",
    "for alpha in x_range: \n",
    "    lasso = Lasso(alpha)\n",
    "    lasso.fit(X_train,y_train)\n",
    "    coeff.append(lasso.coef_ )\n",
    "    \n",
    "coeff = np.array(coeff)\n",
    "\n",
    "plt.subplots(figsize = (15,5))\n",
    "for i in range(0,13):\n",
    "    plt.plot(x_range, coeff[:,i], label = X.columns[i])\n",
    "\n",
    "plt.axhline(y=0, xmin=0.001, xmax=9999, linewidth=1, c ='gray')\n",
    "plt.xlabel(r'$\\alpha$')\n",
    "plt.xscale('log')\n",
    "plt.legend(loc='upper center', bbox_to_anchor=(0.5, 1.5),\n",
    "          ncol=3, fancybox=True, shadow=True)\n",
    "plt.show()"
   ]
  },
  {
   "cell_type": "code",
   "execution_count": 425,
   "id": "bea8db3d",
   "metadata": {},
   "outputs": [
    {
     "data": {
      "text/plain": [
       "{'Year': 1.346923193750202,\n",
       " 'Status': -3.4668644014257453,\n",
       " 'Adult Mortality': -10.799615840018408,\n",
       " 'infant deaths': -0.0,\n",
       " 'Alcohol': 0.0,\n",
       " 'percentage expenditure': 0.0,\n",
       " 'Hepatitis B': 0.0,\n",
       " 'Measles ': -0.0,\n",
       " ' BMI ': 1.0994271944354135,\n",
       " 'under-five deaths ': -0.0,\n",
       " 'Polio': 2.039055037055607,\n",
       " 'Total expenditure': 0.0,\n",
       " 'Diphtheria ': 2.454736269429669,\n",
       " ' HIV/AIDS': -4.894253475433084,\n",
       " 'GDP': 0.0,\n",
       " 'Population': -0.0,\n",
       " ' thinness  1-19 years': -0.0,\n",
       " ' thinness 5-9 years': -0.42782776257472677,\n",
       " 'Income composition of resources': 5.832527442896018,\n",
       " 'Schooling': 6.882638040512357,\n",
       " 'Country_East Asia & Pacific': -0.0,\n",
       " 'Country_Europe & Central Asia': 0.0,\n",
       " 'Country_Latin America & Caribbean': 0.5309388051159708,\n",
       " 'Country_Middle East & North Africa': 0.0,\n",
       " 'Country_North America': 0.0,\n",
       " 'Country_South Asia': -0.0,\n",
       " 'Country_Sub-Saharan Africa': -8.022272056874776}"
      ]
     },
     "execution_count": 425,
     "metadata": {},
     "output_type": "execute_result"
    }
   ],
   "source": [
    "lasso = Lasso(alpha = 0.1)\n",
    "lasso.fit(X_train, y_train)\n",
    "dict(zip(X.columns, lasso.coef_))"
   ]
  },
  {
   "cell_type": "code",
   "execution_count": 426,
   "id": "5c93827c",
   "metadata": {},
   "outputs": [
    {
     "data": {
      "image/png": "[encoded data removed]",
      "text/plain": [
       "<Figure size 1512x504 with 1 Axes>"
      ]
     },
     "metadata": {
      "needs_background": "light"
     },
     "output_type": "display_data"
    }
   ],
   "source": [
    "plt.figure(figsize = (21,7))\n",
    "plt.style.use('ggplot')\n",
    "plt.bar(range(27), lasso.coef_)\n",
    "plt.box(False)\n",
    "plt.xticks(range(27), X.columns, rotation = 45)\n",
    "plt.grid()"
   ]
  },
  {
   "cell_type": "markdown",
   "id": "000efda1",
   "metadata": {},
   "source": [
    "# Polynomial regression"
   ]
  },
  {
   "cell_type": "markdown",
   "id": "8d1510f7",
   "metadata": {},
   "source": [
    "### splitting the data into train and test and transforming using min max scalar"
   ]
  },
  {
   "cell_type": "code",
   "execution_count": 427,
   "id": "1a2bcbba",
   "metadata": {},
   "outputs": [],
   "source": [
    "# splitting the data into train and test and transforming using min max scalar\n",
    "\n",
    "X_train_org, X_test_org, y_train, y_test = train_test_split(X,y, random_state = 0)\n",
    "\n",
    "scaler = MinMaxScaler()\n",
    "\n",
    "X_train = scaler.fit_transform(X_train_org)\n",
    "X_test = scaler.transform(X_test_org)"
   ]
  },
  {
   "cell_type": "markdown",
   "id": "f107f84a",
   "metadata": {},
   "source": [
    "### train and test scores with degree 2 "
   ]
  },
  {
   "cell_type": "code",
   "execution_count": 428,
   "id": "41720685",
   "metadata": {},
   "outputs": [
    {
     "name": "stdout",
     "output_type": "stream",
     "text": [
      "0.9529279465799357\n",
      "0.8454312648149785\n"
     ]
    }
   ],
   "source": [
    "poly = PolynomialFeatures(degree = 2)\n",
    "X_train_poly = poly.fit_transform(X_train)\n",
    "X_test_poly = poly.transform(X_test)\n",
    "\n",
    "poly_reg = LinearRegression()\n",
    "poly_reg.fit(X_train_poly, y_train)\n",
    "\n",
    "print(poly_reg.score(X_train_poly, y_train))\n",
    "print(poly_reg.score(X_test_poly, y_test))"
   ]
  },
  {
   "cell_type": "markdown",
   "id": "89a0f276",
   "metadata": {},
   "source": [
    "### Train and test scores with degree 3. The test score is coming in negative. Therefore, we should not do further analysis with other degrees."
   ]
  },
  {
   "cell_type": "code",
   "execution_count": 429,
   "id": "2916a5af",
   "metadata": {},
   "outputs": [
    {
     "name": "stdout",
     "output_type": "stream",
     "text": [
      "1.0\n",
      "-3097.0131161393574\n"
     ]
    }
   ],
   "source": [
    "poly_three = PolynomialFeatures(degree = 3)\n",
    "X_train_poly_three = poly_three.fit_transform(X_train)\n",
    "X_test_poly_three = poly_three.transform(X_test)\n",
    "\n",
    "poly_reg = LinearRegression()\n",
    "poly_reg.fit(X_train_poly_three, y_train)\n",
    "\n",
    "print(poly_reg.score(X_train_poly_three, y_train))\n",
    "print(poly_reg.score(X_test_poly_three, y_test))"
   ]
  },
  {
   "cell_type": "markdown",
   "id": "a9bd2d27",
   "metadata": {},
   "source": [
    "### We take n=2 for polynomial regression as n=3 is giving test result of negative which is not feasible"
   ]
  },
  {
   "cell_type": "markdown",
   "id": "5097306f",
   "metadata": {},
   "source": [
    "# LinearSVR"
   ]
  },
  {
   "cell_type": "markdown",
   "id": "82621316",
   "metadata": {},
   "source": [
    "### Installing Pip"
   ]
  },
  {
   "cell_type": "code",
   "execution_count": 431,
   "id": "a5e69cfd",
   "metadata": {},
   "outputs": [
    {
     "name": "stdout",
     "output_type": "stream",
     "text": [
      "Requirement already satisfied: mlxtend in c:\\users\\nitik\\anaconda\\envs\\py3810\\lib\\site-packages (0.19.0)\n",
      "Requirement already satisfied: setuptools in c:\\users\\nitik\\anaconda\\envs\\py3810\\lib\\site-packages (from mlxtend) (58.0.4)\n",
      "Requirement already satisfied: numpy>=1.16.2 in c:\\users\\nitik\\anaconda\\envs\\py3810\\lib\\site-packages (from mlxtend) (1.20.3)\n",
      "Requirement already satisfied: pandas>=0.24.2 in c:\\users\\nitik\\anaconda\\envs\\py3810\\lib\\site-packages (from mlxtend) (1.3.2)\n",
      "Requirement already satisfied: scipy>=1.2.1 in c:\\users\\nitik\\anaconda\\envs\\py3810\\lib\\site-packages (from mlxtend) (1.7.1)\n",
      "Requirement already satisfied: scikit-learn>=0.20.3 in c:\\users\\nitik\\anaconda\\envs\\py3810\\lib\\site-packages (from mlxtend) (0.24.2)\n",
      "Requirement already satisfied: matplotlib>=3.0.0 in c:\\users\\nitik\\anaconda\\envs\\py3810\\lib\\site-packages (from mlxtend) (3.4.2)\n",
      "Requirement already satisfied: joblib>=0.13.2 in c:\\users\\nitik\\anaconda\\envs\\py3810\\lib\\site-packages (from mlxtend) (1.0.1)\n",
      "Requirement already satisfied: kiwisolver>=1.0.1 in c:\\users\\nitik\\anaconda\\envs\\py3810\\lib\\site-packages (from matplotlib>=3.0.0->mlxtend) (1.3.1)\n",
      "Requirement already satisfied: python-dateutil>=2.7 in c:\\users\\nitik\\anaconda\\envs\\py3810\\lib\\site-packages (from matplotlib>=3.0.0->mlxtend) (2.8.2)\n",
      "Requirement already satisfied: cycler>=0.10 in c:\\users\\nitik\\anaconda\\envs\\py3810\\lib\\site-packages (from matplotlib>=3.0.0->mlxtend) (0.10.0)\n",
      "Requirement already satisfied: pyparsing>=2.2.1 in c:\\users\\nitik\\anaconda\\envs\\py3810\\lib\\site-packages (from matplotlib>=3.0.0->mlxtend) (2.4.7)\n",
      "Requirement already satisfied: pillow>=6.2.0 in c:\\users\\nitik\\anaconda\\envs\\py3810\\lib\\site-packages (from matplotlib>=3.0.0->mlxtend) (8.3.1)\n",
      "Requirement already satisfied: six in c:\\users\\nitik\\anaconda\\envs\\py3810\\lib\\site-packages (from cycler>=0.10->matplotlib>=3.0.0->mlxtend) (1.16.0)\n",
      "Requirement already satisfied: pytz>=2017.3 in c:\\users\\nitik\\anaconda\\envs\\py3810\\lib\\site-packages (from pandas>=0.24.2->mlxtend) (2021.1)\n",
      "Requirement already satisfied: threadpoolctl>=2.0.0 in c:\\users\\nitik\\anaconda\\envs\\py3810\\lib\\site-packages (from scikit-learn>=0.20.3->mlxtend) (2.2.0)\n",
      "Note: you may need to restart the kernel to use updated packages.\n"
     ]
    }
   ],
   "source": [
    "pip install mlxtend"
   ]
  },
  {
   "cell_type": "markdown",
   "id": "8cb7c690",
   "metadata": {},
   "source": [
    "### Simple SVR , it by default takes rbf"
   ]
  },
  {
   "cell_type": "code",
   "execution_count": 433,
   "id": "98dfc5ef",
   "metadata": {},
   "outputs": [
    {
     "name": "stdout",
     "output_type": "stream",
     "text": [
      "Train score: 0.8669\n",
      "Test score: 0.8648\n"
     ]
    }
   ],
   "source": [
    "# Simple SVR , it by default takes rbf\n",
    "clf_rbf = SVR()\n",
    "clf_rbf.fit(X_train,y_train)\n",
    "\n",
    "print('Train score: {:.4f}'.format(clf_rbf.score(X_train, y_train)))\n",
    "print('Test score: {:.4f}'.format(clf_rbf.score(X_test, y_test)))"
   ]
  },
  {
   "cell_type": "markdown",
   "id": "7a80f49c",
   "metadata": {},
   "source": [
    "# Poly SVR with kernels (rbf,poly and linear)"
   ]
  },
  {
   "cell_type": "markdown",
   "id": "d38143aa",
   "metadata": {},
   "source": [
    "### for rbf Fine tuning using grid search"
   ]
  },
  {
   "cell_type": "code",
   "execution_count": 434,
   "id": "2a43e7fb",
   "metadata": {},
   "outputs": [
    {
     "name": "stdout",
     "output_type": "stream",
     "text": [
      "Parameter grid:\n",
      "{'C': [0.001, 0.01, 0.1, 1, 10, 100], 'gamma': [0.001, 0.01, 0.1, 1, 10, 100]}\n"
     ]
    }
   ],
   "source": [
    "# for rbf Fine tuning using grid search\n",
    "param_grid = {'C': [0.001, 0.01, 0.1, 1, 10, 100],\n",
    "              'gamma': [0.001, 0.01, 0.1, 1, 10, 100]}\n",
    "print(\"Parameter grid:\\n{}\".format(param_grid))\n",
    "\n",
    "grid_search = GridSearchCV(clf_rbf, param_grid, cv=5, return_train_score=True)"
   ]
  },
  {
   "cell_type": "markdown",
   "id": "9206729e",
   "metadata": {},
   "source": [
    "### Finding Best Parameters and Best Cross-validation Score"
   ]
  },
  {
   "cell_type": "code",
   "execution_count": 435,
   "id": "5bca96fa",
   "metadata": {},
   "outputs": [
    {
     "name": "stdout",
     "output_type": "stream",
     "text": [
      "Best parameters: {'C': 100, 'gamma': 1}\n",
      "Best cross-validation score: 0.93\n"
     ]
    }
   ],
   "source": [
    "grid_search.fit(X_train, y_train)\n",
    "print(\"Best parameters: {}\".format(grid_search.best_params_))\n",
    "print(\"Best cross-validation score: {:.2f}\".format(grid_search.best_score_))"
   ]
  },
  {
   "cell_type": "markdown",
   "id": "205d6480",
   "metadata": {},
   "source": [
    "### Now fitting the model with best parameters"
   ]
  },
  {
   "cell_type": "code",
   "execution_count": 436,
   "id": "5a37da1d",
   "metadata": {},
   "outputs": [
    {
     "name": "stdout",
     "output_type": "stream",
     "text": [
      "Train score: 0.9783\n",
      "Test score: 0.9344\n"
     ]
    }
   ],
   "source": [
    "# now fitting the model with best parameters\n",
    "clf_rbf = SVR(kernel='rbf',C=100, gamma=1)\n",
    "clf_rbf.fit(X_train,y_train)\n",
    "\n",
    "print('Train score: {:.4f}'.format(clf_rbf.score(X_train, y_train)))\n",
    "print('Test score: {:.4f}'.format(clf_rbf.score(X_test, y_test)))"
   ]
  },
  {
   "cell_type": "markdown",
   "id": "df13af34",
   "metadata": {},
   "source": [
    "### For SVR poly. Splitting into training and test dataset and then finding the Training and Test score"
   ]
  },
  {
   "cell_type": "code",
   "execution_count": 464,
   "id": "d6a9a45a",
   "metadata": {},
   "outputs": [
    {
     "name": "stdout",
     "output_type": "stream",
     "text": [
      "Train score: 0.8487\n",
      "Test score: 0.8341\n"
     ]
    }
   ],
   "source": [
    "# for SVR poly\n",
    "df_reg_1= df_reg.sample(n=700)\n",
    "X = df_reg_1.drop('Life expectancy ', axis = 1)\n",
    "y = df_reg_1['Life expectancy ']\n",
    "\n",
    "# splitting the data into train and test\n",
    "X_train, X_test, y_train, y_test = train_test_split(X,y, random_state = 0)\n",
    "\n",
    "#using min max scaler we scale the values and then transform the values\n",
    "scaler = MinMaxScaler()\n",
    "X_train = scaler.fit_transform(X_train)\n",
    "X_test = scaler.transform(X_test)\n",
    "\n",
    "svr_poly = SVR(kernel='poly')\n",
    "svr_poly.fit(X_train,y_train)\n",
    "print('Train score: {:.4f}'.format(svr_poly.score(X_train, y_train)))\n",
    "print('Test score: {:.4f}'.format(svr_poly.score(X_test, y_test)))"
   ]
  },
  {
   "cell_type": "markdown",
   "id": "2af78f2f",
   "metadata": {},
   "source": [
    "### SVR Poly after fine tuning"
   ]
  },
  {
   "cell_type": "code",
   "execution_count": 465,
   "id": "eac8ee88",
   "metadata": {},
   "outputs": [
    {
     "name": "stdout",
     "output_type": "stream",
     "text": [
      "Parameter grid:\n",
      "{'C': [0.001, 0.01, 0.1, 1, 10, 100], 'gamma': [0.001, 0.01, 0.1, 1, 10, 100]}\n",
      "Best parameters: {'C': 0.001, 'gamma': 10}\n",
      "Best cross-validation score: 0.87\n"
     ]
    }
   ],
   "source": [
    "#SVR Poly after fine tuning\n",
    "param_grid = {'C': [0.001, 0.01, 0.1, 1, 10,100],\n",
    "              'gamma': [0.001, 0.01, 0.1, 1, 10,100]}\n",
    "print(\"Parameter grid:\\n{}\".format(param_grid))\n",
    "\n",
    "grid_search_1 = GridSearchCV(svr_poly, param_grid, cv=5, return_train_score=True)\n",
    "grid_search_1.fit(X_train, y_train)\n",
    "\n",
    "print(\"Best parameters: {}\".format(grid_search_1.best_params_))\n",
    "print(\"Best cross-validation score: {:.2f}\".format(grid_search_1.best_score_))"
   ]
  },
  {
   "cell_type": "markdown",
   "id": "d15b9ea8",
   "metadata": {},
   "source": [
    "### Finding best parameters"
   ]
  },
  {
   "cell_type": "code",
   "execution_count": 471,
   "id": "382b1e83",
   "metadata": {},
   "outputs": [
    {
     "name": "stdout",
     "output_type": "stream",
     "text": [
      "Best parameters: {'C': 0.001, 'gamma': 10}\n",
      "Best cross-validation score: 0.87\n"
     ]
    }
   ],
   "source": [
    "grid_search_1 = GridSearchCV(svr_poly, param_grid, cv=5, return_train_score=True)\n",
    "grid_search_1.fit(X_train, y_train)\n",
    "\n",
    "print(\"Best parameters: {}\".format(grid_search_1.best_params_))\n",
    "print(\"Best cross-validation score: {:.2f}\".format(grid_search_1.best_score_))"
   ]
  },
  {
   "cell_type": "markdown",
   "id": "512d7a80",
   "metadata": {},
   "source": [
    "### Now fitting the model with best parameters"
   ]
  },
  {
   "cell_type": "code",
   "execution_count": 472,
   "id": "7d0cf50a",
   "metadata": {},
   "outputs": [
    {
     "name": "stdout",
     "output_type": "stream",
     "text": [
      "Train score: 0.9494\n",
      "Test score: 0.8971\n"
     ]
    }
   ],
   "source": [
    "# now fitting the model with best parameters\n",
    "clf_poly = SVR(kernel='poly',C=0.001, gamma=10)\n",
    "clf_poly.fit(X_train,y_train)\n",
    "\n",
    "print('Train score: {:.4f}'.format(clf_poly.score(X_train, y_train)))\n",
    "print('Test score: {:.4f}'.format(clf_poly.score(X_test, y_test)))"
   ]
  },
  {
   "cell_type": "markdown",
   "id": "72136c55",
   "metadata": {},
   "source": [
    "### SVR -Linear"
   ]
  },
  {
   "cell_type": "code",
   "execution_count": 473,
   "id": "7290c1bb",
   "metadata": {},
   "outputs": [
    {
     "name": "stdout",
     "output_type": "stream",
     "text": [
      "Train score: 0.8429\n",
      "Test score: 0.8463\n"
     ]
    }
   ],
   "source": [
    "# splitting the data into train and test and transforming using min max scaler\n",
    "X = df_reg.drop('Life expectancy ', axis = 1)\n",
    "y = df_reg['Life expectancy ']\n",
    "\n",
    "X_train_org, X_test_org, y_train, y_test = train_test_split(X,y, random_state = 0)\n",
    "\n",
    "scaler = MinMaxScaler()\n",
    "\n",
    "X_train = scaler.fit_transform(X_train_org)\n",
    "X_test = scaler.transform(X_test_org)\n",
    "\n",
    "#SVR -Linear\n",
    "svr_linear = SVR(kernel='linear')\n",
    "svr_linear.fit(X_train,y_train)\n",
    "print('Train score: {:.4f}'.format(svr_linear.score(X_train, y_train)))\n",
    "print('Test score: {:.4f}'.format(svr_linear.score(X_test, y_test)))"
   ]
  },
  {
   "cell_type": "markdown",
   "id": "8e8cb3a9",
   "metadata": {},
   "source": [
    "### SVR Linear after fine tuning"
   ]
  },
  {
   "cell_type": "code",
   "execution_count": 474,
   "id": "f6b9fe7a",
   "metadata": {},
   "outputs": [
    {
     "name": "stdout",
     "output_type": "stream",
     "text": [
      "Parameter grid:\n",
      "{'C': [0.001, 0.01, 0.1, 1, 10, 100], 'gamma': [0.001, 0.01, 0.1, 1, 10, 100]}\n",
      "Best parameters: {'C': 100, 'gamma': 0.001}\n",
      "Best cross-validation score: 0.84\n"
     ]
    }
   ],
   "source": [
    "#SVR Linear after fine tuning\n",
    "param_grid = {'C': [0.001, 0.01, 0.1, 1, 10, 100],\n",
    "              'gamma': [0.001, 0.01, 0.1, 1, 10, 100]}\n",
    "print(\"Parameter grid:\\n{}\".format(param_grid))\n",
    "\n",
    "grid_search_2 = GridSearchCV(svr_linear, param_grid, cv=5, return_train_score=True)\n",
    "grid_search_2.fit(X_train, y_train)\n",
    "print(\"Best parameters: {}\".format(grid_search_2.best_params_))\n",
    "print(\"Best cross-validation score: {:.2f}\".format(grid_search_2.best_score_))"
   ]
  },
  {
   "cell_type": "markdown",
   "id": "becc04e9",
   "metadata": {},
   "source": [
    "### Now fitting the model with best parameters"
   ]
  },
  {
   "cell_type": "code",
   "execution_count": 475,
   "id": "d86453fe",
   "metadata": {},
   "outputs": [
    {
     "name": "stdout",
     "output_type": "stream",
     "text": [
      "Train score: 0.8459\n",
      "Test score: 0.8488\n"
     ]
    }
   ],
   "source": [
    "# now fitting the model with best parameters\n",
    "svr_linear_1 = SVR(kernel='linear',C=100, gamma=.001)\n",
    "svr_linear_1.fit(X_train,y_train)\n",
    "\n",
    "print('Train score: {:.4f}'.format(svr_linear_1.score(X_train, y_train)))\n",
    "print('Test score: {:.4f}'.format(svr_linear_1.score(X_test, y_test)))"
   ]
  },
  {
   "cell_type": "markdown",
   "id": "b8b6e5a6",
   "metadata": {},
   "source": [
    "# Decision Tree Regressor"
   ]
  },
  {
   "cell_type": "markdown",
   "id": "908504ba",
   "metadata": {},
   "source": [
    "### Splitting the data and then putting GridSearchCV"
   ]
  },
  {
   "cell_type": "code",
   "execution_count": 440,
   "id": "9b9b9915",
   "metadata": {},
   "outputs": [],
   "source": [
    "X = df_reg.drop('Life expectancy ', axis = 1)\n",
    "y = df_reg['Life expectancy ']\n",
    "\n",
    "# hyper parameter tunning\n",
    "X_train, X_test, y_train, y_test = train_test_split(X, y, random_state = 0)\n",
    "\n",
    "scaler = StandardScaler()\n",
    "X_train = scaler.fit_transform(X_train)\n",
    "X_test = scaler.transform(X_test)"
   ]
  },
  {
   "cell_type": "markdown",
   "id": "6f76312d",
   "metadata": {},
   "source": [
    "### Visualisation of Target Variable with default leaves"
   ]
  },
  {
   "cell_type": "code",
   "execution_count": 468,
   "id": "77f22e0e",
   "metadata": {},
   "outputs": [
    {
     "data": {
      "text/plain": [
       "Text(0, 0.5, 'Life Expectancy')"
      ]
     },
     "execution_count": 468,
     "metadata": {},
     "output_type": "execute_result"
    },
    {
     "data": {
      "image/png": "[encoded data removed]",
      "text/plain": [
       "<Figure size 1440x360 with 1 Axes>"
      ]
     },
     "metadata": {},
     "output_type": "display_data"
    }
   ],
   "source": [
    "X_b = X_train[:50,6].reshape(-1,1)\n",
    "y_b = y_train[:50]\n",
    "\n",
    "clf = DecisionTreeRegressor()\n",
    "clf.fit(X_b, y_b)\n",
    "\n",
    "X_new=np.linspace(X_b.min(), X_b.max(), 50).reshape(50, 1)\n",
    "y_predict = clf.predict(X_new)\n",
    "\n",
    "plt.subplots(figsize = (20,5))\n",
    "plt.plot(X_new, y_predict, c = 'royalblue')\n",
    "plt.scatter(X_b, y_b)\n",
    "plt.ylabel('Life Expectancy')"
   ]
  },
  {
   "cell_type": "markdown",
   "id": "91f8cff9",
   "metadata": {},
   "source": [
    "### Visualisation of Target Variable with 10 leaves"
   ]
  },
  {
   "cell_type": "code",
   "execution_count": 469,
   "id": "ab3fdb36",
   "metadata": {},
   "outputs": [
    {
     "data": {
      "text/plain": [
       "Text(0, 0.5, 'Life Expectancy')"
      ]
     },
     "execution_count": 469,
     "metadata": {},
     "output_type": "execute_result"
    },
    {
     "data": {
      "image/png": "[encoded data removed]",
      "text/plain": [
       "<Figure size 1440x360 with 1 Axes>"
      ]
     },
     "metadata": {},
     "output_type": "display_data"
    }
   ],
   "source": [
    "X_b = X_train[:50,6].reshape(-1,1)\n",
    "y_b = y_train[:50]\n",
    "\n",
    "clf = DecisionTreeRegressor(min_samples_leaf=10)\n",
    "clf.fit(X_b, y_b)\n",
    "\n",
    "X_new=np.linspace(X_b.min(), X_b.max(), 50).reshape(50, 1)\n",
    "y_predict = clf.predict(X_new)\n",
    "\n",
    "plt.subplots(figsize = (20,5))\n",
    "plt.plot(X_new, y_predict, c = 'royalblue')\n",
    "plt.scatter(X_b, y_b)\n",
    "plt.ylabel('Life Expectancy')"
   ]
  },
  {
   "cell_type": "markdown",
   "id": "64528be4",
   "metadata": {},
   "source": [
    "### Accuracy on Training and Test set"
   ]
  },
  {
   "cell_type": "code",
   "execution_count": 443,
   "id": "3c8550a8",
   "metadata": {},
   "outputs": [
    {
     "name": "stdout",
     "output_type": "stream",
     "text": [
      "Accuracy on training set: 0.737\n",
      "Accuracy on test set: 0.731\n"
     ]
    }
   ],
   "source": [
    "dtree = DecisionTreeRegressor(max_depth=2, random_state=0)\n",
    "dtree.fit(X_train, y_train)\n",
    "\n",
    "print(\"Accuracy on training set: {:.3f}\".format(dtree.score(X_train, y_train)))\n",
    "print(\"Accuracy on test set: {:.3f}\".format(dtree.score(X_test, y_test)))"
   ]
  },
  {
   "cell_type": "markdown",
   "id": "1ff93cc1",
   "metadata": {},
   "source": [
    "### Grid Search CV"
   ]
  },
  {
   "cell_type": "code",
   "execution_count": 444,
   "id": "c8fc1579",
   "metadata": {},
   "outputs": [],
   "source": [
    "param_dist={\n",
    "    \"criterion\":[\"squared_error\", \"mse\", \"absolute_error\", \"mae\"],\n",
    "    \"max_depth\":[1,2,3,4,5,6,7]\n",
    "}"
   ]
  },
  {
   "cell_type": "markdown",
   "id": "16fd819f",
   "metadata": {},
   "source": [
    "grid=GridSearchCV(dtree, param_grid=param_dist, cv=10, n_jobs=-1)"
   ]
  },
  {
   "cell_type": "code",
   "execution_count": 446,
   "id": "10888bc7",
   "metadata": {},
   "outputs": [
    {
     "data": {
      "text/plain": [
       "GridSearchCV(cv=10,\n",
       "             estimator=DecisionTreeRegressor(max_depth=2, random_state=0),\n",
       "             n_jobs=-1,\n",
       "             param_grid={'criterion': ['squared_error', 'mse', 'absolute_error',\n",
       "                                       'mae'],\n",
       "                         'max_depth': [1, 2, 3, 4, 5, 6, 7]})"
      ]
     },
     "execution_count": 446,
     "metadata": {},
     "output_type": "execute_result"
    }
   ],
   "source": [
    "from warnings import simplefilter\n",
    "simplefilter(action='ignore')\n",
    "grid.fit(X_train,y_train)"
   ]
  },
  {
   "cell_type": "markdown",
   "id": "c859d15c",
   "metadata": {},
   "source": [
    "### Best estimator"
   ]
  },
  {
   "cell_type": "code",
   "execution_count": 447,
   "id": "5d7bf997",
   "metadata": {},
   "outputs": [
    {
     "data": {
      "text/plain": [
       "DecisionTreeRegressor(max_depth=7, random_state=0)"
      ]
     },
     "execution_count": 447,
     "metadata": {},
     "output_type": "execute_result"
    }
   ],
   "source": [
    "grid.best_estimator_"
   ]
  },
  {
   "cell_type": "markdown",
   "id": "c1340de8",
   "metadata": {},
   "source": [
    "### Best Score"
   ]
  },
  {
   "cell_type": "code",
   "execution_count": 448,
   "id": "d3bcc1c2",
   "metadata": {},
   "outputs": [
    {
     "data": {
      "text/plain": [
       "0.9167648635573103"
      ]
     },
     "execution_count": 448,
     "metadata": {},
     "output_type": "execute_result"
    }
   ],
   "source": [
    "grid.best_score_"
   ]
  },
  {
   "cell_type": "markdown",
   "id": "d9d2393d",
   "metadata": {},
   "source": [
    "### Best Parameters"
   ]
  },
  {
   "cell_type": "code",
   "execution_count": 449,
   "id": "e2bf009a",
   "metadata": {},
   "outputs": [
    {
     "data": {
      "text/plain": [
       "{'criterion': 'mse', 'max_depth': 7}"
      ]
     },
     "execution_count": 449,
     "metadata": {},
     "output_type": "execute_result"
    }
   ],
   "source": [
    "#hyper parameter tunning\n",
    "grid.best_params_"
   ]
  },
  {
   "cell_type": "markdown",
   "id": "dbc55349",
   "metadata": {},
   "source": [
    "### Putting best parameters to find out the training and test scores"
   ]
  },
  {
   "cell_type": "code",
   "execution_count": 450,
   "id": "4816da73",
   "metadata": {},
   "outputs": [
    {
     "name": "stdout",
     "output_type": "stream",
     "text": [
      "Accuracy on training set: 0.954\n",
      "Accuracy on test set: 0.911\n"
     ]
    }
   ],
   "source": [
    "dtree = DecisionTreeRegressor(max_depth=7, criterion = 'mse')\n",
    "dtree.fit(X_train, y_train)\n",
    "\n",
    "print(\"Accuracy on training set: {:.3f}\".format(dtree.score(X_train, y_train)))\n",
    "print(\"Accuracy on test set: {:.3f}\".format(dtree.score(X_test, y_test)))"
   ]
  },
  {
   "cell_type": "markdown",
   "id": "76f35048",
   "metadata": {},
   "source": [
    "### Visualising the Decision Tree"
   ]
  },
  {
   "cell_type": "code",
   "execution_count": 459,
   "id": "43bc5c9c",
   "metadata": {},
   "outputs": [
    {
     "data": {
      "image/png": "[encoded data removed]",
      "text/plain": [
       "<Figure size 1800x1440 with 1 Axes>"
      ]
     },
     "metadata": {},
     "output_type": "display_data"
    }
   ],
   "source": [
    "from sklearn import tree\n",
    "plt.figure(figsize=(25,20))\n",
    "tree.plot_tree(dtree, filled = True)\n",
    "plt.show()"
   ]
  },
  {
   "cell_type": "markdown",
   "id": "d7cfd94e",
   "metadata": {},
   "source": [
    "## We have validated  KNN, Linear REgression , Ridge Regression , Lasso, LinearSVR, SVR with kernels- ploy, linear and Rb and decision tree. We observed that the best train and test score combination is for SVR rbf kernel with the training score of 0.9783 and a testing score of  0.9344. Uisng this we will be predicting y for X-test."
   ]
  },
  {
   "cell_type": "code",
   "execution_count": 476,
   "id": "586953e7",
   "metadata": {
    "scrolled": false
   },
   "outputs": [
    {
     "name": "stdout",
     "output_type": "stream",
     "text": [
      "[65.15466187 55.57860792 55.36209879 75.95877109 73.35793774 74.86773511\n",
      " 56.69197918 56.30187675 69.70378306 72.30742533 73.81825156 74.10530846\n",
      " 71.12873059 73.6563117  75.27239447 59.33601092 74.95789058 60.43658009\n",
      " 56.3060759  68.91086093 73.6725521  62.25703118 75.64136689 70.44221018\n",
      " 75.96666965 71.40137474 56.59160164 69.28541077 72.12561046 56.912391\n",
      " 67.38241717 85.12849196 72.46520292 66.13920066 53.82214584 66.48647929\n",
      " 52.06944622 73.71648326 77.02605514 71.90685374 52.84302731 73.33395004\n",
      " 78.92026772 61.65778203 73.68696852 75.27164486 73.81072181 44.84197547\n",
      " 78.07646185 73.92039832 80.84282043 67.16479931 75.14394921 62.27545414\n",
      " 59.21002418 82.5052635  65.39716866 72.80913907 57.85485716 66.75089093\n",
      " 79.88665495 82.28471814 46.16406684 74.07383035 75.78467934 50.16660147\n",
      " 57.16872562 72.75398229 58.75627799 81.59763441 71.10266318 74.32951914\n",
      " 67.94649567 73.19617154 74.68387772 64.73751846 74.39719413 66.22871859\n",
      " 86.61736851 65.68550513 82.38938582 71.8884496  75.65635905 57.11834351\n",
      " 72.35156151 65.90395961 84.64077678 58.54278036 73.57726024 53.70443854\n",
      " 72.96543386 70.21008034 75.129546   75.54284968 60.65443221 71.74758181\n",
      " 68.24448686 52.18393411 72.44935656 53.34624472 74.18019585 71.8952991\n",
      " 65.0613957  74.45027898 78.83010832 68.25570366 61.91421086 55.46204405\n",
      " 74.29609032 75.37474696 54.86630374 74.16149394 82.05567542 60.60975487\n",
      " 59.99412729 57.69378474 74.76052663 69.2745428  64.70423251 72.89516667\n",
      " 49.20305064 65.18195734 44.51830383 60.1470782  79.800163   64.60050502\n",
      " 74.02068851 75.32633379 56.25846505 68.66886975 75.98535115 72.81728405\n",
      " 70.80546346 80.2614888  54.9913705  73.62510552 54.68437739 74.47958871\n",
      " 53.03220049 53.55888929 58.1027732  56.73112421 50.79293642 73.66867782\n",
      " 73.27856262 75.47122965 61.32815591 79.01392189 71.98965182 73.23437629\n",
      " 65.10848592 74.4773705  75.65821468 74.83663894 69.68440917 84.18466914\n",
      " 74.93508652 75.61825345 78.67380951 61.75149046 72.63856311 57.84466943\n",
      " 74.60437524 71.60427422 73.61731461 79.39506862 71.87039301 77.87114194\n",
      " 61.30113782 73.22009536 79.639359   47.52855096 58.44626835 79.4107703\n",
      " 61.63421976 81.98498704 51.47433578 75.16514352 76.1399784  75.50258691\n",
      " 74.07134527 58.02507083 64.22618941 44.23162117 67.67434468 58.43704357\n",
      " 72.86979566 75.83767898 73.56391979 54.84097278 61.012077   60.86806937\n",
      " 75.40914746 39.95551799 72.43725338 59.69571902 79.21856656 76.07648087\n",
      " 71.81850338 80.36440224 74.06867783 74.05683671 78.70192961 72.76113355\n",
      " 75.51744291 80.12278582 75.9937374  81.65735936 62.58705294 79.75692\n",
      " 80.4125191  68.1146232  68.82093188 57.62602469 66.22731259 77.59078256\n",
      " 65.24213614 74.32275774 70.49112804 73.23843743 56.12485874 80.18764082\n",
      " 78.27154576 75.39938628 73.17748451 79.18031271 55.21981452 80.5999977\n",
      " 50.82188465 54.83604554 71.9612525  75.78662536 74.41472776 75.41299046\n",
      " 78.80894859 85.24060211 77.93694901 52.16347019 57.94981667 72.21210171\n",
      " 74.88947088 63.62383538 60.19746248 67.22816683 68.77122336 68.61235035\n",
      " 74.53472204 61.33471271 69.47101416 76.97042311 72.82881364 76.54715867\n",
      " 62.38267509 79.97246122 70.44109632 55.67416886 68.15379636 77.78575939\n",
      " 48.68580308 69.20237745 71.47303273 60.39750725 49.24542927 57.68345054\n",
      " 75.62914713 73.02545774 68.65044481 69.55923813 75.66973141 68.24135843\n",
      " 78.11385472 73.35152288 73.51223646 73.10335617 74.92577102 52.14880342\n",
      " 51.4409423  73.56994128 50.81981361 71.58664762 67.72612463 73.15538055\n",
      " 76.79614849 70.02832988 71.46839803 78.38279152 73.2003368  78.55814374\n",
      " 85.20510038 46.85385786 69.93544296 72.17945932 46.45583665 71.25011608\n",
      " 77.70439799 76.85774015 70.50986382 72.9391737  54.93160553 79.87010184\n",
      " 63.38997997 75.22611464 57.70133242 73.47498132 80.45451121 75.04262656\n",
      " 75.06551314 69.65642444 56.22023891 65.27805184 73.4104259  52.11438968\n",
      " 77.36704496 71.8479587  68.55517827 74.49277595 55.10194358 72.5714428\n",
      " 83.1205205  76.9992284  71.34160076 74.04167142 81.61764186 67.3408458\n",
      " 76.20377633 63.13743823 60.63489683 64.69780508 50.0297891  64.99926407\n",
      " 52.23126323 55.42640721 73.88980165 63.72791193 73.03724358 47.66916643\n",
      " 75.70959597 69.03394909 76.5285847  72.26999269 55.07413989 68.1914393\n",
      " 73.96652536 64.37748927 71.01562669 43.22217664 57.38480407 75.23323995\n",
      " 81.42632508 80.80655732 71.35382857 79.8484179  83.91533348 47.27401431\n",
      " 54.67328702 73.96369913 64.64618542 57.10412919 80.19355938 66.60997695\n",
      " 76.46443886 52.7847056  67.74012209 74.68148575 73.31664565 64.61958888\n",
      " 58.47306501 73.43652284 74.1124502  70.21398275 63.50678034 55.96818138\n",
      " 81.81910185 52.0222228  74.24665625 71.69988255 72.49214826 74.05878185\n",
      " 76.84847789 50.23170584 74.41999765 72.36517758 73.78626569 74.77291868\n",
      " 80.51500827 67.10886845 76.1041776  76.57508482 69.39685525 57.26370559\n",
      " 74.49496996 62.61149293 74.72351587 43.56572513 84.50962154 77.53119485\n",
      " 71.29634037 53.28347607 72.21139737 72.44174773 71.58096909 68.64932044\n",
      " 54.51234878 81.38774537 62.69797164 51.06583671 81.85403528 73.18590613\n",
      " 69.6027974  79.24151757 61.63345516 64.65937503 65.57178781 72.77235802\n",
      " 65.74962039 79.9303343  63.18276529 72.88810998 63.62017831 71.17790041\n",
      " 81.28503217 75.62966578 78.37836879 61.10908467 77.9832949  81.73823258\n",
      " 51.48887976 80.35746996 78.81287703 82.35910747 67.78078715 72.23090902\n",
      " 81.39140715 70.48252328 60.43532576 80.81088919 69.68591007 65.52841678\n",
      " 71.9884172  71.10834664 67.84595003 67.88791687 63.8472818  54.59495345\n",
      " 82.21410217 57.28186047 78.28263264 55.94899949 68.64088632 57.64287983\n",
      " 68.85827941 79.96164741 76.54603335 54.7640531  78.38690971 61.99168778\n",
      " 55.9754235  83.01931537 73.63017828 84.47717247 67.97961028 74.61137138\n",
      " 58.05719784 78.76631118 78.96655046 73.16714777 58.03338271 70.36622757\n",
      " 57.20625688 79.27729376 52.53052494 73.75585678 76.08518822 43.10846954\n",
      " 70.25452063 71.09705774 72.63871823 70.53367678 70.63020385 56.08165526\n",
      " 78.66007154 71.91017385 59.11810822 62.55196547 77.63992847 78.92127788\n",
      " 75.96320226 70.12130212 70.20886317 51.08575933 74.69810258 81.18949296\n",
      " 63.38174754 72.71202446 51.42852412 68.33814495 80.77840379 47.16686048\n",
      " 72.87286977 75.01389428 55.36810454 74.15119923 51.53171766 78.73224212\n",
      " 74.97337108 80.56681274 74.81085619 59.78881327 78.43235943 71.96651364\n",
      " 73.39008093 58.36534625 79.46606985 75.62148035 48.98825668 73.70003825\n",
      " 71.03265248 78.08757812 81.47361659 71.02790733 63.2895755  62.70518935\n",
      " 71.66548325 73.80088068 70.36044978 72.64440914 74.67182472 55.6487006\n",
      " 81.56634494 76.93833508 44.63114615 63.9477492  80.01078066 77.24288358\n",
      " 74.51576111 79.02191627 74.61443452 58.13044544 70.78276249 77.23874731\n",
      " 72.52530005 70.35999084 61.06158194 77.40780041 78.27753545 73.8699882\n",
      " 59.50067578 76.73836579 77.95346259 79.3535363  76.0881614  77.52571576\n",
      " 72.45115317 72.678234   78.07500615 72.18265201 57.39873441 76.75113449\n",
      " 72.54682179 81.00176835 73.52981164 71.99751004 81.3878147  74.53422772\n",
      " 66.65219885 68.17631609 80.13041503 70.89967452 80.88031857 66.32178863\n",
      " 79.5070001  69.83145968 67.03709125 73.97225807 80.28104668 70.68454203\n",
      " 73.42603414 73.70680902 77.44274404 74.62471036 61.6566172  71.71139957\n",
      " 68.34699118 76.75740885 72.94106713 66.38934904 75.14596798 77.35628076\n",
      " 82.39897605 51.72404031 78.13183359 65.28524361 75.62367338 69.09619112\n",
      " 75.46631802 51.04627243 74.29827999 77.99660044 63.4333628  75.31481705\n",
      " 50.84343955 73.91629168 61.46487994 72.25626611 72.28076481 56.02765226\n",
      " 67.19027445 67.66900226 72.2187689  72.4889925  63.18027474 70.97419546\n",
      " 61.0624758  66.14514613 80.8624575  74.10258161 50.5272141  66.87507083\n",
      " 45.0249625  79.40828115 46.09691818 74.57465599 64.92558919 48.78109981\n",
      " 61.9415076  73.17089187 61.81608219 51.16506478 61.46427507 58.3736974\n",
      " 51.4950692  51.74685657 78.06208391 78.76865118 65.92509458 73.38587146\n",
      " 66.00920801 78.43140738 74.52242793 54.07300807 70.80143271 66.57584926\n",
      " 47.4402024  74.87358519 73.35730837 70.37616912 47.87860152 81.56146512\n",
      " 72.39159707 55.32294903 50.5559306  74.23379476 54.57790853 54.00002225\n",
      " 68.0329327  65.80350515 57.06962461 61.03941999 48.64988355 62.5619775\n",
      " 64.74197386 60.41651392 67.44749134 55.4540184  75.74295481 78.46232755\n",
      " 80.24944502 58.76346456 53.32233249 78.8046281  75.55546518 71.48763116\n",
      " 67.58089938 68.36318141 72.48567118 73.87049725 73.49267864 67.64898749\n",
      " 74.63522012 52.94770202 66.8230246  51.76925832 61.45812363 63.28340093\n",
      " 77.15141853 74.9719101  69.8214828  74.603338   75.52908077 73.05997501\n",
      " 65.26691101 70.12459113 72.2809126  74.65371736 56.91589935 60.25539023\n",
      " 62.69503699 50.58136428 70.80150877 56.64585298 66.86550098 48.98180713\n",
      " 74.85661769 83.08645763 71.52994918 74.89137374 66.53221571 74.23316599\n",
      " 60.90811417 81.34525731 81.2269843  74.05357375 45.24889998 66.01655287\n",
      " 73.57023046 49.20290035 74.47773607 68.7295284  64.74695708 70.99263686\n",
      " 78.17552648 53.36877341 66.50630956 71.3736675  74.17221548 53.81301347\n",
      " 59.49373749 58.29893163 71.41196321 71.23315935 72.58860363 55.39553692]\n"
     ]
    }
   ],
   "source": [
    "#We have validated  KNN, Linear REgression , Ridge Regression , Lasso, LinearSVR, SVR with kernels- ploy, linear and Rb and decision tree. We observed that the best train and test score combination is for SVR rbf kernel with the training score of 0.9783 and a testing score of  0.9344. Uisng this we will be predicting y for X-test.\n",
    "y_pred =clf_rbf.predict(X_test)\n",
    "print(y_pred)"
   ]
  },
  {
   "cell_type": "markdown",
   "id": "02c274fc",
   "metadata": {},
   "source": [
    "### Root Mean Square Error"
   ]
  },
  {
   "cell_type": "code",
   "execution_count": 480,
   "id": "958daa13",
   "metadata": {},
   "outputs": [
    {
     "name": "stdout",
     "output_type": "stream",
     "text": [
      "2.468709971255282\n"
     ]
    }
   ],
   "source": [
    "#Root Mean square error\n",
    "import math\n",
    "from sklearn.metrics import mean_squared_error,r2_score\n",
    "rmse= math.sqrt(mean_squared_error(y_pred,y_test))\n",
    "print(rmse)"
   ]
  },
  {
   "cell_type": "markdown",
   "id": "48de4050",
   "metadata": {},
   "source": [
    "### R 2 score"
   ]
  },
  {
   "cell_type": "code",
   "execution_count": 481,
   "id": "56724623",
   "metadata": {},
   "outputs": [
    {
     "name": "stdout",
     "output_type": "stream",
     "text": [
      "0.9322120445613167\n"
     ]
    }
   ],
   "source": [
    "print(r2_score(y_pred,y_test))"
   ]
  },
  {
   "cell_type": "markdown",
   "id": "6f8e9825",
   "metadata": {},
   "source": [
    "# Project 1\n",
    "\n",
    "### Dataset\n",
    "For our Project we took two datasets and for Regression, we took the dataset of Life Expectancy from Kaggle.\n",
    "There were two CSV files: Life Expectancy Data.csv and Country-Metadata.csv which we combined to create one dataset.\n",
    "\n",
    "These are the insights of the combined dataset  pre processing\n",
    "\n",
    "- There were total 22 columns in one dataset and 5 in other \n",
    "- There were 2939 instances (rows)\n",
    "- There were 8 Categorical/ordinal columns.\n",
    "- 5%-10% of the dataset was missing.\n",
    "\n",
    "The dataset was huge. We imputed the dataset with median and mean after checking the skewness of the dataset. We visualized\n",
    "the dataset using bar charts, histogram and pie charts.\n",
    "\n",
    "### Cleaning Process:\n",
    "\n",
    "The dataset was huge therefore, it took a lot of preprocessing. The values were imputed on the basis of mean and median after visualizing and checking the skewness. We imputed categorical/ordinal values on the basis of count. \n",
    " \n",
    "\n",
    "### Regression models:\n",
    "\n",
    "We ran different types of Regression models such as:\n",
    "\n",
    "#### K neighbours regressorsr:\n",
    "\n",
    "- We ran Knn Regressor on Grid Search and the best parameters that we received {'metric': 'manhattan', 'n_neighbors': 4, 'weights': 'uniform'}\n",
    "- we received the train and test scores as follows:\n",
    "- Train score: 0.9665\n",
    "- Test score: 0.9306\n",
    "\n",
    "#### Linear regression using the Normal Equation:\n",
    "\n",
    "- we received scores as follows:\n",
    "- Train score: 0.8524\n",
    "- Test score: 0.8521\n",
    "\n",
    "#### Ridge:\n",
    "- We ran Grid Search on Ridge and the best parameters that we received is  Ridge(alpha=0.01, solver='svd')\n",
    "\n",
    "- Best cross-validation score: 0.78.\n",
    "- we received the train and test scores as follows:\n",
    "- Train score: 0.8523\n",
    "- Test score: 0.8519\n",
    "\n",
    "#### Lasso:\n",
    "- We ran GridSearchCV on Lasso in order to find the best parameters. We received these as follows:\n",
    "- Lasso(alpha=0.01)\n",
    "- Train score: 0.1199\n",
    "- Test score: 0.1204\n",
    "\n",
    "#### Polynomial regression:\n",
    "- The best scores are as follows:\n",
    "- 0.9529279465799357\n",
    "- 0.8454312648149785\n",
    "\n",
    "#### LinearSVR :\n",
    "- The best scores are as follows:\n",
    "- Train score: 0.8669\n",
    "- Test score: 0.8648\n",
    "\n",
    "#### Poly SVR with kernels (rbf, poly, linear):\n",
    "\n",
    "#### For RBF:\n",
    "- Best parameters: {'C': 100, 'gamma': 1}\n",
    "- Best cross-validation score: 0.93\n",
    "- Train score: 0.9783\n",
    "- Test score: 0.9344\n",
    "\n",
    "#### For poly:\n",
    "- Best parameters: {'C': 0.001, 'gamma': 10}\n",
    "- Best cross-validation score: 0.87\n",
    "- Train score: 0.9494\n",
    "- Test score: 0.8971\n",
    "\n",
    "#### For linear:\n",
    "- Best parameters: {'C': 100, 'gamma': 0.001}\n",
    "- Best cross-validation score: 0.84\n",
    "- Train score: 0.8459\n",
    "- Test score: 0.8488\n",
    "\n",
    "#### Decision Tree Regressor :\n",
    "We ran Grid Search on Decision Tree in order to find the maximum depth and best parameters\n",
    "- {'criterion': 'mse', 'max_depth': 7}\n",
    "- Accuracy on training set: 0.954\n",
    "- Accuracy on test set: 0.911\n",
    "\n",
    "We have validated KNN, Linear REgression , Ridge Regression , Lasso, LinearSVR, SVR with kernels- ploy, linear and Rb and decision tree. We observed that the best train and test score combination is for SVR rbf kernel with the training score of 0.9783 and a testing score of 0.9344. Uisng this we will be predicting y for X-test.\n",
    "\n",
    "### R 2 score\n",
    "- 0.9322120445613167\n",
    "\n",
    "### RMSE\n",
    "-2.468709971255282\n"
   ]
  }
 ],
 "metadata": {
  "kernelspec": {
   "display_name": "Python 3",
   "language": "python",
   "name": "python3"
  },
  "language_info": {
   "codemirror_mode": {
    "name": "ipython",
    "version": 3
   },
   "file_extension": ".py",
   "mimetype": "text/x-python",
   "name": "python",
   "nbconvert_exporter": "python",
   "pygments_lexer": "ipython3",
   "version": "3.8.8"
  }
 },
 "nbformat": 4,
 "nbformat_minor": 5
}
